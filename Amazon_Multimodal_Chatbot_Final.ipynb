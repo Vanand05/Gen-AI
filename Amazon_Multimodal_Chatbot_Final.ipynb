{
 "cells": [
  {
   "cell_type": "code",
   "execution_count": 41,
   "id": "41ece031-7733-4d03-9067-88ae329c2794",
   "metadata": {
    "executionInfo": {
     "elapsed": 26119,
     "status": "ok",
     "timestamp": 1755276651587,
     "user": {
      "displayName": "Mahima Masetty",
      "userId": "16202030355877904065"
     },
     "user_tz": 300
    },
    "id": "41ece031-7733-4d03-9067-88ae329c2794",
    "tags": []
   },
   "outputs": [],
   "source": [
    "import os\n",
    "import re\n",
    "import pandas as pd\n",
    "import requests\n",
    "from io import BytesIO\n",
    "from PIL import Image\n",
    "from sentence_transformers import SentenceTransformer\n",
    "import chromadb\n",
    "from concurrent.futures import ThreadPoolExecutor\n",
    "import torch\n",
    "import clip\n",
    "import numpy as np\n",
    "from tqdm import tqdm\n",
    "import shutil"
   ]
  },
  {
   "cell_type": "code",
   "execution_count": 4,
   "id": "QiugGGv3khw3",
   "metadata": {
    "executionInfo": {
     "elapsed": 10,
     "status": "ok",
     "timestamp": 1755276651588,
     "user": {
      "displayName": "Mahima Masetty",
      "userId": "16202030355877904065"
     },
     "user_tz": 300
    },
    "id": "QiugGGv3khw3",
    "tags": []
   },
   "outputs": [],
   "source": [
    "#!pip install git+https://github.com/openai/CLIP.git\n",
    "#!pip install pillow requests pandas sentence-transformers chromadb\n",
    "#!pip install torch torchvision torchaudio --index-url https://download.pytorch.org/whl/cu118"
   ]
  },
  {
   "cell_type": "code",
   "execution_count": 10,
   "id": "4cf08120-7ffb-46e3-bfc6-a4417ff48dc1",
   "metadata": {
    "colab": {
     "base_uri": "https://localhost:8080/"
    },
    "executionInfo": {
     "elapsed": 247,
     "status": "ok",
     "timestamp": 1755276651832,
     "user": {
      "displayName": "Mahima Masetty",
      "userId": "16202030355877904065"
     },
     "user_tz": 300
    },
    "id": "4cf08120-7ffb-46e3-bfc6-a4417ff48dc1",
    "outputId": "a57831c8-075f-491d-89b6-4d4a1db07810",
    "tags": []
   },
   "outputs": [
    {
     "name": "stdout",
     "output_type": "stream",
     "text": [
      "(10002, 28)\n"
     ]
    }
   ],
   "source": [
    "bucket_path = \"gs://mahimamasetty/Data/amazon_dataset.csv\"\n",
    "df = pd.read_csv(bucket_path)\n",
    "print(df.shape)"
   ]
  },
  {
   "cell_type": "code",
   "execution_count": 11,
   "id": "0b541056-0b71-4097-862d-7f4dd631ed9e",
   "metadata": {
    "colab": {
     "base_uri": "https://localhost:8080/"
    },
    "executionInfo": {
     "elapsed": 16,
     "status": "ok",
     "timestamp": 1755276651853,
     "user": {
      "displayName": "Mahima Masetty",
      "userId": "16202030355877904065"
     },
     "user_tz": 300
    },
    "id": "0b541056-0b71-4097-862d-7f4dd631ed9e",
    "outputId": "1909a24f-452e-474d-ff72-4e24ecf605c1",
    "tags": []
   },
   "outputs": [
    {
     "name": "stdout",
     "output_type": "stream",
     "text": [
      "<class 'pandas.core.frame.DataFrame'>\n",
      "RangeIndex: 10002 entries, 0 to 10001\n",
      "Data columns (total 28 columns):\n",
      " #   Column                 Non-Null Count  Dtype  \n",
      "---  ------                 --------------  -----  \n",
      " 0   Uniq Id                10002 non-null  object \n",
      " 1   Product Name           10002 non-null  object \n",
      " 2   Brand Name             0 non-null      float64\n",
      " 3   Asin                   0 non-null      float64\n",
      " 4   Category               9172 non-null   object \n",
      " 5   Upc Ean Code           34 non-null     object \n",
      " 6   List Price             0 non-null      float64\n",
      " 7   Selling Price          9895 non-null   object \n",
      " 8   Quantity               0 non-null      float64\n",
      " 9   Model Number           8230 non-null   object \n",
      " 10  About Product          9729 non-null   object \n",
      " 11  Product Specification  8370 non-null   object \n",
      " 12  Technical Details      9212 non-null   object \n",
      " 13  Shipping Weight        8864 non-null   object \n",
      " 14  Product Dimensions     479 non-null    object \n",
      " 15  Image                  10002 non-null  object \n",
      " 16  Variants               2478 non-null   object \n",
      " 17  Sku                    0 non-null      float64\n",
      " 18  Product Url            10002 non-null  object \n",
      " 19  Stock                  0 non-null      float64\n",
      " 20  Product Details        0 non-null      float64\n",
      " 21  Dimensions             0 non-null      float64\n",
      " 22  Color                  0 non-null      float64\n",
      " 23  Ingredients            0 non-null      float64\n",
      " 24  Direction To Use       0 non-null      float64\n",
      " 25  Is Amazon Seller       10002 non-null  object \n",
      " 26  Size Quantity Variant  0 non-null      float64\n",
      " 27  Product Description    0 non-null      float64\n",
      "dtypes: float64(13), object(15)\n",
      "memory usage: 2.1+ MB\n"
     ]
    }
   ],
   "source": [
    "df.info()"
   ]
  },
  {
   "cell_type": "code",
   "execution_count": 12,
   "id": "7d6167b1-a705-47aa-8923-7d9cea895547",
   "metadata": {
    "colab": {
     "base_uri": "https://localhost:8080/"
    },
    "executionInfo": {
     "elapsed": 16,
     "status": "ok",
     "timestamp": 1755276651870,
     "user": {
      "displayName": "Mahima Masetty",
      "userId": "16202030355877904065"
     },
     "user_tz": 300
    },
    "id": "7d6167b1-a705-47aa-8923-7d9cea895547",
    "outputId": "2e74dd05-d206-4b7d-ce99-28edc3d0bcbd",
    "tags": []
   },
   "outputs": [
    {
     "name": "stdout",
     "output_type": "stream",
     "text": [
      "<class 'pandas.core.frame.DataFrame'>\n",
      "RangeIndex: 10002 entries, 0 to 10001\n",
      "Data columns (total 11 columns):\n",
      " #   Column                 Non-Null Count  Dtype \n",
      "---  ------                 --------------  ----- \n",
      " 0   Uniq Id                10002 non-null  object\n",
      " 1   Product Name           10002 non-null  object\n",
      " 2   Category               9172 non-null   object\n",
      " 3   Selling Price          9895 non-null   object\n",
      " 4   About Product          9729 non-null   object\n",
      " 5   Product Specification  8370 non-null   object\n",
      " 6   Technical Details      9212 non-null   object\n",
      " 7   Shipping Weight        8864 non-null   object\n",
      " 8   Image                  10002 non-null  object\n",
      " 9   Product Url            10002 non-null  object\n",
      " 10  Is Amazon Seller       10002 non-null  object\n",
      "dtypes: object(11)\n",
      "memory usage: 859.7+ KB\n"
     ]
    }
   ],
   "source": [
    "# Keeping only that columns that are optimal to provide information on products\n",
    "columns_to_keep = [\n",
    "    'Uniq Id',\n",
    "    'Product Name',\n",
    "    'Category',\n",
    "    'Selling Price',\n",
    "    'About Product',\n",
    "    'Product Specification',\n",
    "    'Technical Details',\n",
    "    'Shipping Weight',\n",
    "    'Image',\n",
    "    'Product Url',\n",
    "    'Is Amazon Seller'\n",
    "]\n",
    "\n",
    "df_clean = df[columns_to_keep].copy()\n",
    "df_clean.info()"
   ]
  },
  {
   "cell_type": "code",
   "execution_count": 13,
   "id": "fbe86de6-333d-4eca-8704-b11694bceda4",
   "metadata": {
    "colab": {
     "base_uri": "https://localhost:8080/",
     "height": 764
    },
    "executionInfo": {
     "elapsed": 224,
     "status": "ok",
     "timestamp": 1755276652095,
     "user": {
      "displayName": "Mahima Masetty",
      "userId": "16202030355877904065"
     },
     "user_tz": 300
    },
    "id": "fbe86de6-333d-4eca-8704-b11694bceda4",
    "outputId": "311a6e55-ac1a-401d-aec5-c800ac819762",
    "tags": []
   },
   "outputs": [
    {
     "data": {
      "text/html": [
       "<div>\n",
       "<style scoped>\n",
       "    .dataframe tbody tr th:only-of-type {\n",
       "        vertical-align: middle;\n",
       "    }\n",
       "\n",
       "    .dataframe tbody tr th {\n",
       "        vertical-align: top;\n",
       "    }\n",
       "\n",
       "    .dataframe thead th {\n",
       "        text-align: right;\n",
       "    }\n",
       "</style>\n",
       "<table border=\"1\" class=\"dataframe\">\n",
       "  <thead>\n",
       "    <tr style=\"text-align: right;\">\n",
       "      <th></th>\n",
       "      <th>Uniq Id</th>\n",
       "      <th>Product Name</th>\n",
       "      <th>Category</th>\n",
       "      <th>Selling Price</th>\n",
       "      <th>About Product</th>\n",
       "      <th>Product Specification</th>\n",
       "      <th>Technical Details</th>\n",
       "      <th>Shipping Weight</th>\n",
       "      <th>Image</th>\n",
       "      <th>Product Url</th>\n",
       "      <th>Is Amazon Seller</th>\n",
       "    </tr>\n",
       "  </thead>\n",
       "  <tbody>\n",
       "    <tr>\n",
       "      <th>0</th>\n",
       "      <td>4c69b61db1fc16e7013b43fc926e502d</td>\n",
       "      <td>DB Longboards CoreFlex Crossbow 41\" Bamboo Fib...</td>\n",
       "      <td>Sports &amp; Outdoors | Outdoor Recreation | Skate...</td>\n",
       "      <td>$237.68</td>\n",
       "      <td>Make sure this fits by entering your model num...</td>\n",
       "      <td>Shipping Weight: 10.7 pounds (View shipping ra...</td>\n",
       "      <td>NaN</td>\n",
       "      <td>10.7 pounds</td>\n",
       "      <td>https://images-na.ssl-images-amazon.com/images...</td>\n",
       "      <td>https://www.amazon.com/DB-Longboards-CoreFlex-...</td>\n",
       "      <td>Y</td>\n",
       "    </tr>\n",
       "    <tr>\n",
       "      <th>1</th>\n",
       "      <td>66d49bbed043f5be260fa9f7fbff5957</td>\n",
       "      <td>Electronic Snap Circuits Mini Kits Classpack, ...</td>\n",
       "      <td>Toys &amp; Games | Learning &amp; Education | Science ...</td>\n",
       "      <td>$99.95</td>\n",
       "      <td>Make sure this fits by entering your model num...</td>\n",
       "      <td>Product Dimensions:         14.7 x 11.1 x 10.2...</td>\n",
       "      <td>The snap circuits mini kits classpack provides...</td>\n",
       "      <td>4 pounds</td>\n",
       "      <td>https://images-na.ssl-images-amazon.com/images...</td>\n",
       "      <td>https://www.amazon.com/Electronic-Circuits-Cla...</td>\n",
       "      <td>Y</td>\n",
       "    </tr>\n",
       "    <tr>\n",
       "      <th>2</th>\n",
       "      <td>2c55cae269aebf53838484b0d7dd931a</td>\n",
       "      <td>3Doodler Create Flexy 3D Printing Filament Ref...</td>\n",
       "      <td>Toys &amp; Games | Arts &amp; Crafts | Craft Kits</td>\n",
       "      <td>$34.99</td>\n",
       "      <td>Make sure this fits by entering your model num...</td>\n",
       "      <td>ProductDimensions:10.3x3.4x0.8inches|ItemWeigh...</td>\n",
       "      <td>show up to 2 reviews by default No longer are ...</td>\n",
       "      <td>12.8 ounces</td>\n",
       "      <td>https://images-na.ssl-images-amazon.com/images...</td>\n",
       "      <td>https://www.amazon.com/3Doodler-Plastic-Innova...</td>\n",
       "      <td>Y</td>\n",
       "    </tr>\n",
       "    <tr>\n",
       "      <th>3</th>\n",
       "      <td>18018b6bc416dab347b1b7db79994afa</td>\n",
       "      <td>Guillow Airplane Design Studio with Travel Cas...</td>\n",
       "      <td>Toys &amp; Games | Hobbies | Models &amp; Model Kits |...</td>\n",
       "      <td>$28.91</td>\n",
       "      <td>Make 8 different Planes at one time. | Experim...</td>\n",
       "      <td>ProductDimensions:3.5x6.2x13inches|ItemWeight:...</td>\n",
       "      <td>Go to your orders and start the return Select ...</td>\n",
       "      <td>13.4 ounces</td>\n",
       "      <td>https://images-na.ssl-images-amazon.com/images...</td>\n",
       "      <td>https://www.amazon.com/Guillow-Airplane-Design...</td>\n",
       "      <td>Y</td>\n",
       "    </tr>\n",
       "    <tr>\n",
       "      <th>4</th>\n",
       "      <td>e04b990e95bf73bbe6a3fa09785d7cd0</td>\n",
       "      <td>Woodstock- Collage 500 pc Puzzle</td>\n",
       "      <td>Toys &amp; Games | Puzzles | Jigsaw Puzzles</td>\n",
       "      <td>$17.49</td>\n",
       "      <td>Make sure this fits by entering your model num...</td>\n",
       "      <td>ProductDimensions:1.9x8x10inches|ItemWeight:13...</td>\n",
       "      <td>show up to 2 reviews by default 100% Officiall...</td>\n",
       "      <td>13.4 ounces</td>\n",
       "      <td>https://images-na.ssl-images-amazon.com/images...</td>\n",
       "      <td>https://www.amazon.com/Woodstock-Collage-500-p...</td>\n",
       "      <td>Y</td>\n",
       "    </tr>\n",
       "  </tbody>\n",
       "</table>\n",
       "</div>"
      ],
      "text/plain": [
       "                            Uniq Id  \\\n",
       "0  4c69b61db1fc16e7013b43fc926e502d   \n",
       "1  66d49bbed043f5be260fa9f7fbff5957   \n",
       "2  2c55cae269aebf53838484b0d7dd931a   \n",
       "3  18018b6bc416dab347b1b7db79994afa   \n",
       "4  e04b990e95bf73bbe6a3fa09785d7cd0   \n",
       "\n",
       "                                        Product Name  \\\n",
       "0  DB Longboards CoreFlex Crossbow 41\" Bamboo Fib...   \n",
       "1  Electronic Snap Circuits Mini Kits Classpack, ...   \n",
       "2  3Doodler Create Flexy 3D Printing Filament Ref...   \n",
       "3  Guillow Airplane Design Studio with Travel Cas...   \n",
       "4                   Woodstock- Collage 500 pc Puzzle   \n",
       "\n",
       "                                            Category Selling Price  \\\n",
       "0  Sports & Outdoors | Outdoor Recreation | Skate...       $237.68   \n",
       "1  Toys & Games | Learning & Education | Science ...        $99.95   \n",
       "2          Toys & Games | Arts & Crafts | Craft Kits        $34.99   \n",
       "3  Toys & Games | Hobbies | Models & Model Kits |...        $28.91   \n",
       "4            Toys & Games | Puzzles | Jigsaw Puzzles        $17.49   \n",
       "\n",
       "                                       About Product  \\\n",
       "0  Make sure this fits by entering your model num...   \n",
       "1  Make sure this fits by entering your model num...   \n",
       "2  Make sure this fits by entering your model num...   \n",
       "3  Make 8 different Planes at one time. | Experim...   \n",
       "4  Make sure this fits by entering your model num...   \n",
       "\n",
       "                               Product Specification  \\\n",
       "0  Shipping Weight: 10.7 pounds (View shipping ra...   \n",
       "1  Product Dimensions:         14.7 x 11.1 x 10.2...   \n",
       "2  ProductDimensions:10.3x3.4x0.8inches|ItemWeigh...   \n",
       "3  ProductDimensions:3.5x6.2x13inches|ItemWeight:...   \n",
       "4  ProductDimensions:1.9x8x10inches|ItemWeight:13...   \n",
       "\n",
       "                                   Technical Details Shipping Weight  \\\n",
       "0                                                NaN     10.7 pounds   \n",
       "1  The snap circuits mini kits classpack provides...        4 pounds   \n",
       "2  show up to 2 reviews by default No longer are ...     12.8 ounces   \n",
       "3  Go to your orders and start the return Select ...     13.4 ounces   \n",
       "4  show up to 2 reviews by default 100% Officiall...     13.4 ounces   \n",
       "\n",
       "                                               Image  \\\n",
       "0  https://images-na.ssl-images-amazon.com/images...   \n",
       "1  https://images-na.ssl-images-amazon.com/images...   \n",
       "2  https://images-na.ssl-images-amazon.com/images...   \n",
       "3  https://images-na.ssl-images-amazon.com/images...   \n",
       "4  https://images-na.ssl-images-amazon.com/images...   \n",
       "\n",
       "                                         Product Url Is Amazon Seller  \n",
       "0  https://www.amazon.com/DB-Longboards-CoreFlex-...                Y  \n",
       "1  https://www.amazon.com/Electronic-Circuits-Cla...                Y  \n",
       "2  https://www.amazon.com/3Doodler-Plastic-Innova...                Y  \n",
       "3  https://www.amazon.com/Guillow-Airplane-Design...                Y  \n",
       "4  https://www.amazon.com/Woodstock-Collage-500-p...                Y  "
      ]
     },
     "execution_count": 13,
     "metadata": {},
     "output_type": "execute_result"
    }
   ],
   "source": [
    "df_clean.head()"
   ]
  },
  {
   "cell_type": "markdown",
   "id": "8ce6a89f-0403-4882-9edb-dc0a6fa9c056",
   "metadata": {
    "id": "8ce6a89f-0403-4882-9edb-dc0a6fa9c056"
   },
   "source": [
    "## Text Data Pre-processing"
   ]
  },
  {
   "cell_type": "markdown",
   "id": "5fbfaf23-93ea-4a0e-9126-c0766caf7b50",
   "metadata": {
    "id": "5fbfaf23-93ea-4a0e-9126-c0766caf7b50"
   },
   "source": [
    "### Clean selling price column"
   ]
  },
  {
   "cell_type": "code",
   "execution_count": 14,
   "id": "52d4ee97-e385-4a3a-a2d0-74dac064fcbb",
   "metadata": {
    "executionInfo": {
     "elapsed": 2,
     "status": "ok",
     "timestamp": 1755276652100,
     "user": {
      "displayName": "Mahima Masetty",
      "userId": "16202030355877904065"
     },
     "user_tz": 300
    },
    "id": "52d4ee97-e385-4a3a-a2d0-74dac064fcbb",
    "tags": []
   },
   "outputs": [],
   "source": [
    "problem_rows = df_clean[df_clean['Selling Price']\n",
    "    .astype(str)\n",
    "    .str.replace(r'[^0-9.]', '', regex=True)\n",
    "    .str.contains(r'\\d+\\.\\d+\\d+\\.\\d+')]  # two decimal points"
   ]
  },
  {
   "cell_type": "code",
   "execution_count": 15,
   "id": "f1bb8e95-356b-4a14-8297-f94e6e92e283",
   "metadata": {
    "colab": {
     "base_uri": "https://localhost:8080/"
    },
    "executionInfo": {
     "elapsed": 20,
     "status": "ok",
     "timestamp": 1755276652120,
     "user": {
      "displayName": "Mahima Masetty",
      "userId": "16202030355877904065"
     },
     "user_tz": 300
    },
    "id": "f1bb8e95-356b-4a14-8297-f94e6e92e283",
    "outputId": "84ce8e05-e6dd-419f-80d3-1ac552b8ee94",
    "tags": []
   },
   "outputs": [
    {
     "name": "stdout",
     "output_type": "stream",
     "text": [
      "                               Uniq Id  \\\n",
      "25    6d38858169064c8b7069a19c90dd0ae4   \n",
      "39    c3296d8ad42c3998c205f0dbca3998f3   \n",
      "150   d97a81d04b9463ebced3488341e8df6a   \n",
      "166   44af50aecebcfbca03654d2ab92aac6b   \n",
      "173   5ec9d590a90fce754b08cc415627ef07   \n",
      "...                                ...   \n",
      "9941  88734f8decae022f6584d4d85f1952d2   \n",
      "9952  f5e1ea4bbf6bf1903f3dfcb0c0497cb7   \n",
      "9960  f53fc55470d36bc5cb675eb665631b64   \n",
      "9977  68f93eb7852263685cb7259ff453db05   \n",
      "9989  80a95e540e4b2bcb59ecb9d8040a9a48   \n",
      "\n",
      "                                           Product Name  \\\n",
      "25    Huffy Kids Bikes 16 & 20 inch with Streamers a...   \n",
      "39    Poopsie Unicorn Crush with Glitter and Slime S...   \n",
      "150             Medieval Princess Fuschia Child Costume   \n",
      "166   Transformers Bumblebee Movie Muscle Bumblebee ...   \n",
      "173   Snow White and The Huntsman Deluxe Queen Raven...   \n",
      "...                                                 ...   \n",
      "9941  Noch 61230 Rock Mold \"Zugspitze\" G,0,H0,TT,N,Z...   \n",
      "9952  UST Learn & Live Educational Card Set with Dur...   \n",
      "9960  Disney Girls' Beauty and the Beast Princess Be...   \n",
      "9977  Rubie's Costume Teenage Mutant Ninja Turtles T...   \n",
      "9989  Epic Skates Star Hydra Indoor/Outdoor High-Top...   \n",
      "\n",
      "                                               Category     Selling Price  \\\n",
      "25    Toys & Games | Tricycles, Scooters & Wagons | ...  $74.99 - $249.99   \n",
      "39    Toys & Games | Dolls & Accessories | Doll Acce...    $6.94 $ 6 . 94   \n",
      "150   Clothing, Shoes & Jewelry | Costumes & Accesso...   $22.50 - $49.88   \n",
      "166   Toys & Games | Dress Up & Pretend Play | Costumes   $15.99 - $44.99   \n",
      "173   Clothing, Shoes & Jewelry | Costumes & Accesso...  $33.67 - $102.46   \n",
      "...                                                 ...               ...   \n",
      "9941  Toys & Games | Hobbies | Trains & Accessories ...  $18.08 $ 18 . 08   \n",
      "9952  Toys & Games | Learning & Education | Flash Cards    $5.70 $ 5 . 70   \n",
      "9960  Clothing, Shoes & Jewelry | Costumes & Accesso...   $22.24 - $28.19   \n",
      "9977  Clothing, Shoes & Jewelry | Costumes & Accesso...   $13.81 - $35.00   \n",
      "9989  Sports & Outdoors | Outdoor Recreation | Skate...   $48.99 - $75.49   \n",
      "\n",
      "                                          About Product  \\\n",
      "25                                                  NaN   \n",
      "39    Make sure this fits by entering your model num...   \n",
      "150   Rule strict but fair in this Medieval Princess...   \n",
      "166   Polyester | Jumpsuit has hook and loop tape ba...   \n",
      "173   100% Polyester | Imported | Hand Wash | Queen ...   \n",
      "...                                                 ...   \n",
      "9941  Quality scenery for use on model railway layou...   \n",
      "9952  Make sure this fits by entering your model num...   \n",
      "9960  100% Polyester | Imported | Machine Wash | Cap...   \n",
      "9977  100% Polyester | Imported | Hand Wash | Printe...   \n",
      "9989  Epic Star Boots - Black with Blue Stars and St...   \n",
      "\n",
      "                                  Product Specification  \\\n",
      "25    Shipping Information: View shipping rates and ...   \n",
      "39    ProductDimensions:2.2x2.2x4.2inches|ItemWeight...   \n",
      "150                                                 NaN   \n",
      "166                                                 NaN   \n",
      "173                                                 NaN   \n",
      "...                                                 ...   \n",
      "9941                                                NaN   \n",
      "9952  Product Dimensions:         3.5 x 0.2 x 2.2 in...   \n",
      "9960                                                NaN   \n",
      "9977                                                NaN   \n",
      "9989  Shipping Information: View shipping rates and ...   \n",
      "\n",
      "                                      Technical Details Shipping Weight  \\\n",
      "25                                                  NaN             NaN   \n",
      "39    Go to your orders and start the return Select ...      1.3 pounds   \n",
      "150   show up to 2 reviews by default Put your littl...        2 pounds   \n",
      "166   show up to 2 reviews by default Dress your inf...        2 pounds   \n",
      "173   show up to 2 reviews by default Rubie's costum...        1 pounds   \n",
      "...                                                 ...             ...   \n",
      "9941                                                NaN             NaN   \n",
      "9952  show up to 2 reviews by default These quick re...      0.3 ounces   \n",
      "9960                                                NaN        1 pounds   \n",
      "9977  Rubie's costume company has been bringing cost...        1 pounds   \n",
      "9989  Epic Star Hydra Black and Blue quad roller ska...             NaN   \n",
      "\n",
      "                                                  Image  \\\n",
      "25    https://images-na.ssl-images-amazon.com/images...   \n",
      "39    https://images-na.ssl-images-amazon.com/images...   \n",
      "150   https://images-na.ssl-images-amazon.com/images...   \n",
      "166   https://images-na.ssl-images-amazon.com/images...   \n",
      "173   https://images-na.ssl-images-amazon.com/images...   \n",
      "...                                                 ...   \n",
      "9941  https://images-na.ssl-images-amazon.com/images...   \n",
      "9952  https://images-na.ssl-images-amazon.com/images...   \n",
      "9960  https://images-na.ssl-images-amazon.com/images...   \n",
      "9977  https://images-na.ssl-images-amazon.com/images...   \n",
      "9989  https://images-na.ssl-images-amazon.com/images...   \n",
      "\n",
      "                                            Product Url Is Amazon Seller  \n",
      "25    https://www.amazon.com/Huffy-Boys-Thunder-16-I...                Y  \n",
      "39    https://www.amazon.com/Poopsie-Unicorn-Glitter...                Y  \n",
      "150   https://www.amazon.com/California-Costumes-005...                Y  \n",
      "166   https://www.amazon.com/Disguise-Bumblebee-Infa...                Y  \n",
      "173   https://www.amazon.com/White-Huntsman-Deluxe-R...                Y  \n",
      "...                                                 ...              ...  \n",
      "9941  https://www.amazon.com/Noch-61230-Rock-Zugspit...                N  \n",
      "9952  https://www.amazon.com/UST-Learn-Live-Educatio...                Y  \n",
      "9960  https://www.amazon.com/Disney-Little-Princess-...                Y  \n",
      "9977  https://www.amazon.com/Rubies-Teenage-Mutant-T...                Y  \n",
      "9989  https://www.amazon.com/Epic-Skates-Outdoor-Cla...                Y  \n",
      "\n",
      "[322 rows x 11 columns]\n"
     ]
    }
   ],
   "source": [
    "print(problem_rows)"
   ]
  },
  {
   "cell_type": "markdown",
   "id": "bd21fd9d-f3dd-4445-96e3-41d090524134",
   "metadata": {
    "id": "bd21fd9d-f3dd-4445-96e3-41d090524134"
   },
   "source": [
    "Since we see that the prices sometimes have a range, duplicated price patterns, and unusual spaces and dots, we'll set up a cleaning function to take care of this. The function will output a minimum and maximum price to ensure every row has min and max selling price, so later code doesn’t break depending on price type."
   ]
  },
  {
   "cell_type": "code",
   "execution_count": 16,
   "id": "2a218aa2-caec-4395-ab03-9f6a92bad0e9",
   "metadata": {
    "colab": {
     "base_uri": "https://localhost:8080/"
    },
    "executionInfo": {
     "elapsed": 969,
     "status": "ok",
     "timestamp": 1755276653090,
     "user": {
      "displayName": "Mahima Masetty",
      "userId": "16202030355877904065"
     },
     "user_tz": 300
    },
    "id": "2a218aa2-caec-4395-ab03-9f6a92bad0e9",
    "outputId": "c3c6bbb0-3570-490c-8f53-46325d3a8c31",
    "tags": []
   },
   "outputs": [
    {
     "name": "stdout",
     "output_type": "stream",
     "text": [
      "                                Uniq Id  \\\n",
      "0      4c69b61db1fc16e7013b43fc926e502d   \n",
      "1      66d49bbed043f5be260fa9f7fbff5957   \n",
      "2      2c55cae269aebf53838484b0d7dd931a   \n",
      "3      18018b6bc416dab347b1b7db79994afa   \n",
      "4      e04b990e95bf73bbe6a3fa09785d7cd0   \n",
      "...                                 ...   \n",
      "9997   1a22f23576bfdfe5ed6c887dc117aab6   \n",
      "9998   e11514dcf1f087887cd5ea0bd646d1fc   \n",
      "9999   c00301a38560da2abc89c1f86ce4b267   \n",
      "10000  c2928dbf9796ceba44863a2736afb405   \n",
      "10001  2bb94aefc3467ed83860e0e2712d5f10   \n",
      "\n",
      "                                            Product Name  \\\n",
      "0      DB Longboards CoreFlex Crossbow 41\" Bamboo Fib...   \n",
      "1      Electronic Snap Circuits Mini Kits Classpack, ...   \n",
      "2      3Doodler Create Flexy 3D Printing Filament Ref...   \n",
      "3      Guillow Airplane Design Studio with Travel Cas...   \n",
      "4                       Woodstock- Collage 500 pc Puzzle   \n",
      "...                                                  ...   \n",
      "9997   Remedia Publications REM536B Money Activity Bo...   \n",
      "9998   Trends International NFL La Chargers HG - Mobi...   \n",
      "9999   NewPath Learning 10 Piece Science Owls and Owl...   \n",
      "10000           Disney Princess Do It Yourself Braid Set   \n",
      "10001        Hasegawa Ladders Lucano Step Ladder, Orange   \n",
      "\n",
      "                                                Category Selling Price  \\\n",
      "0      Sports & Outdoors | Outdoor Recreation | Skate...       $237.68   \n",
      "1      Toys & Games | Learning & Education | Science ...        $99.95   \n",
      "2              Toys & Games | Arts & Crafts | Craft Kits        $34.99   \n",
      "3      Toys & Games | Hobbies | Models & Model Kits |...        $28.91   \n",
      "4                Toys & Games | Puzzles | Jigsaw Puzzles        $17.49   \n",
      "...                                                  ...           ...   \n",
      "9997   Toys & Games | Learning & Education | Counting...         $9.31   \n",
      "9998                        Toys & Games | Arts & Crafts         $6.99   \n",
      "9999   Office Products | Office & School Supplies | E...        $37.95   \n",
      "10000          Toys & Games | Arts & Crafts | Craft Kits         $3.58   \n",
      "10001  Home & Kitchen | Furniture | Kids' Furniture |...       $152.27   \n",
      "\n",
      "                                           About Product  \\\n",
      "0      Make sure this fits by entering your model num...   \n",
      "1      Make sure this fits by entering your model num...   \n",
      "2      Make sure this fits by entering your model num...   \n",
      "3      Make 8 different Planes at one time. | Experim...   \n",
      "4      Make sure this fits by entering your model num...   \n",
      "...                                                  ...   \n",
      "9997                                                 NaN   \n",
      "9998   Make sure this fits by entering your model num...   \n",
      "9999   Make sure this fits by entering your model num...   \n",
      "10000                                                NaN   \n",
      "10001  Make sure this fits by entering your model num...   \n",
      "\n",
      "                                   Product Specification  \\\n",
      "0      Shipping Weight: 10.7 pounds (View shipping ra...   \n",
      "1      Product Dimensions:         14.7 x 11.1 x 10.2...   \n",
      "2      ProductDimensions:10.3x3.4x0.8inches|ItemWeigh...   \n",
      "3      ProductDimensions:3.5x6.2x13inches|ItemWeight:...   \n",
      "4      ProductDimensions:1.9x8x10inches|ItemWeight:13...   \n",
      "...                                                  ...   \n",
      "9997   Product Dimensions:         11 x 8.5 x 0.4 inc...   \n",
      "9998   ProductDimensions:3x6.5x0.3inches|ItemWeight:0...   \n",
      "9999   Product Dimensions:         18 x 11.9 x 0.7 in...   \n",
      "10000  ProductDimensions:7x7x2inches|ItemWeight:6.1ou...   \n",
      "10001  ProductDimensions:22.8x6x64.2inches|ItemWeight...   \n",
      "\n",
      "                                       Technical Details Shipping Weight  \\\n",
      "0                                                    NaN     10.7 pounds   \n",
      "1      The snap circuits mini kits classpack provides...        4 pounds   \n",
      "2      show up to 2 reviews by default No longer are ...     12.8 ounces   \n",
      "3      Go to your orders and start the return Select ...     13.4 ounces   \n",
      "4      show up to 2 reviews by default 100% Officiall...     13.4 ounces   \n",
      "...                                                  ...             ...   \n",
      "9997   show up to 2 reviews by default Activities inc...      4.8 ounces   \n",
      "9998   The mobile wallet is made of silicone with str...     0.96 ounces   \n",
      "9999   show up to 2 reviews by default NewPath Learni...      2.8 pounds   \n",
      "10000  Disney Princess DIY Braid Set | 6.1 ounces (Vi...      6.1 ounces   \n",
      "10001  Go to your orders and start the return Select ...     20.5 pounds   \n",
      "\n",
      "                                                   Image  \\\n",
      "0      https://images-na.ssl-images-amazon.com/images...   \n",
      "1      https://images-na.ssl-images-amazon.com/images...   \n",
      "2      https://images-na.ssl-images-amazon.com/images...   \n",
      "3      https://images-na.ssl-images-amazon.com/images...   \n",
      "4      https://images-na.ssl-images-amazon.com/images...   \n",
      "...                                                  ...   \n",
      "9997   https://images-na.ssl-images-amazon.com/images...   \n",
      "9998   https://images-na.ssl-images-amazon.com/images...   \n",
      "9999   https://images-na.ssl-images-amazon.com/images...   \n",
      "10000  https://images-na.ssl-images-amazon.com/images...   \n",
      "10001  https://images-na.ssl-images-amazon.com/images...   \n",
      "\n",
      "                                             Product Url Is Amazon Seller  \\\n",
      "0      https://www.amazon.com/DB-Longboards-CoreFlex-...                Y   \n",
      "1      https://www.amazon.com/Electronic-Circuits-Cla...                Y   \n",
      "2      https://www.amazon.com/3Doodler-Plastic-Innova...                Y   \n",
      "3      https://www.amazon.com/Guillow-Airplane-Design...                Y   \n",
      "4      https://www.amazon.com/Woodstock-Collage-500-p...                Y   \n",
      "...                                                  ...              ...   \n",
      "9997   https://www.amazon.com/Remedia-Publications-RE...                Y   \n",
      "9998   https://www.amazon.com/Trends-International-NF...                Y   \n",
      "9999   https://www.amazon.com/NewPath-Learning-Scienc...                Y   \n",
      "10000  https://www.amazon.com/Disney-Princess-Yoursel...                Y   \n",
      "10001  https://www.amazon.com/Hasegawa-Ladders-Lucano...                Y   \n",
      "\n",
      "       Minimum Selling Price  Maximum Selling Price  \n",
      "0                     237.68                 237.68  \n",
      "1                      99.95                  99.95  \n",
      "2                      34.99                  34.99  \n",
      "3                      28.91                  28.91  \n",
      "4                      17.49                  17.49  \n",
      "...                      ...                    ...  \n",
      "9997                    9.31                   9.31  \n",
      "9998                    6.99                   6.99  \n",
      "9999                   37.95                  37.95  \n",
      "10000                   3.58                   3.58  \n",
      "10001                 152.27                 152.27  \n",
      "\n",
      "[10002 rows x 13 columns]\n"
     ]
    }
   ],
   "source": [
    "import re\n",
    "import pandas as pd\n",
    "\n",
    "def clean_selling_price(price_str):\n",
    "    if not isinstance(price_str, str) or not price_str.strip():\n",
    "        return None, None  # No price\n",
    "\n",
    "    # Removig repeated currency symbols and normalize spaces\n",
    "    price_str = re.sub(r'\\$', '', price_str)\n",
    "    price_str = re.sub(r'\\s+', ' ', price_str.strip())\n",
    "\n",
    "    # Extractig all numeric values\n",
    "    numbers = re.findall(r'\\d+\\.\\d+', price_str)\n",
    "    if not numbers:\n",
    "        return None, None\n",
    "\n",
    "    # Converting to floats\n",
    "    numbers = [float(num) for num in numbers]\n",
    "\n",
    "    # If it's a range, return min and max\n",
    "    if len(numbers) >= 2:\n",
    "        return min(numbers), max(numbers)\n",
    "    else:\n",
    "        return numbers[0], numbers[0]\n",
    "\n",
    "df_clean[['Minimum Selling Price', 'Maximum Selling Price']] = df_clean['Selling Price'].apply(lambda x: pd.Series(clean_selling_price(x)))\n",
    "print(df_clean)"
   ]
  },
  {
   "cell_type": "markdown",
   "id": "a8259e36-1914-4efe-a82e-0a1fb1501a05",
   "metadata": {
    "id": "a8259e36-1914-4efe-a82e-0a1fb1501a05"
   },
   "source": [
    "### Parsing shipping weight"
   ]
  },
  {
   "cell_type": "code",
   "execution_count": 17,
   "id": "a77289bc-432d-4ae8-a542-0108752ef0bf",
   "metadata": {
    "colab": {
     "base_uri": "https://localhost:8080/"
    },
    "executionInfo": {
     "elapsed": 13,
     "status": "ok",
     "timestamp": 1755276653104,
     "user": {
      "displayName": "Mahima Masetty",
      "userId": "16202030355877904065"
     },
     "user_tz": 300
    },
    "id": "a77289bc-432d-4ae8-a542-0108752ef0bf",
    "outputId": "65a083c1-2b4b-4c07-a880-84e6d17deacf",
    "tags": []
   },
   "outputs": [
    {
     "data": {
      "text/plain": [
       "array(['10.7 pounds', '4 pounds', '12.8 ounces', '13.4 ounces',\n",
       "       '1.4 pounds', '9.8 ounces', '12.2 ounces', '1.5 pounds',\n",
       "       '3.2 ounces', '2.1 pounds', '5.6 ounces', '0.16 ounces',\n",
       "       '2.9 pounds', '39 pounds', '15.2 ounces', '4.2 ounces', '2 pounds',\n",
       "       '1.6 ounces', '5.3 pounds', '11.2 ounces', '1.23 pounds',\n",
       "       '1.37 pounds', '13.6 ounces', '1.61 pounds', '0.8 ounces',\n",
       "       '3.36 ounces', '4.23 pounds', '1.45 pounds', '1.12 ounces',\n",
       "       '4.8 ounces', '1.3 pounds', '4.6 ounces', '1.64 pounds',\n",
       "       '6.4 pounds', '0.32 ounces', '8.5 ounces', '8 ounces', '5 ounces',\n",
       "       '2.08 ounces', '3.52 ounces', '1.92 ounces', '12.6 ounces',\n",
       "       '6.2 ounces', '12 ounces', '1.54 pounds', '3.7 pounds',\n",
       "       '8.8 pounds', '0.48 ounces', '10.4 ounces', '14.4 ounces'],\n",
       "      dtype=object)"
      ]
     },
     "execution_count": 17,
     "metadata": {},
     "output_type": "execute_result"
    }
   ],
   "source": [
    "df_clean['Shipping Weight'].dropna().unique()[:50]"
   ]
  },
  {
   "cell_type": "code",
   "execution_count": 18,
   "id": "6d76db76-4aae-4488-aa78-7ee56ef77ee2",
   "metadata": {
    "colab": {
     "base_uri": "https://localhost:8080/"
    },
    "executionInfo": {
     "elapsed": 4,
     "status": "ok",
     "timestamp": 1755276653109,
     "user": {
      "displayName": "Mahima Masetty",
      "userId": "16202030355877904065"
     },
     "user_tz": 300
    },
    "id": "6d76db76-4aae-4488-aa78-7ee56ef77ee2",
    "outputId": "a49f54c4-1b60-46d0-b972-2a36c56ba3a4",
    "tags": []
   },
   "outputs": [
    {
     "name": "stdout",
     "output_type": "stream",
     "text": [
      "Bad matches: ['. pounds']\n"
     ]
    }
   ],
   "source": [
    "bad_rows = []\n",
    "for val in df_clean['Shipping Weight'].dropna():\n",
    "    m = re.search(r'([\\d.]+)\\s*([a-zA-Z]+)', str(val))\n",
    "    if m:\n",
    "        try:\n",
    "            float(m.group(1))\n",
    "        except ValueError:\n",
    "            bad_rows.append(val)\n",
    "\n",
    "bad_rows = list(set(bad_rows))  # unique\n",
    "print(\"Bad matches:\", bad_rows)\n"
   ]
  },
  {
   "cell_type": "code",
   "execution_count": 19,
   "id": "66f06004-85f5-40a1-831d-1ccd08294f2c",
   "metadata": {
    "executionInfo": {
     "elapsed": 1051,
     "status": "ok",
     "timestamp": 1755276654161,
     "user": {
      "displayName": "Mahima Masetty",
      "userId": "16202030355877904065"
     },
     "user_tz": 300
    },
    "id": "66f06004-85f5-40a1-831d-1ccd08294f2c",
    "tags": []
   },
   "outputs": [],
   "source": [
    "def parse_weight(text):\n",
    "    if not isinstance(text, str):\n",
    "        return None, None\n",
    "\n",
    "    # Matching number with optional decimal, must have at least one digit\n",
    "    m = re.search(r'(\\d+(?:\\.\\d+)?)\\s*([a-zA-Z]+)', text)\n",
    "    if m:\n",
    "        try:\n",
    "            return float(m.group(1)), m.group(2).lower()\n",
    "        except ValueError:\n",
    "            return None, None\n",
    "    return None, None\n",
    "\n",
    "df_clean[['Shipping Weight Value', 'Shipping Weight Unit']] = df_clean['Shipping Weight'].apply(\n",
    "    lambda x: pd.Series(parse_weight(x))\n",
    ")"
   ]
  },
  {
   "cell_type": "code",
   "execution_count": 20,
   "id": "1e6a05c5-7805-46f2-9378-845f1f455e84",
   "metadata": {
    "executionInfo": {
     "elapsed": 63,
     "status": "ok",
     "timestamp": 1755276654233,
     "user": {
      "displayName": "Mahima Masetty",
      "userId": "16202030355877904065"
     },
     "user_tz": 300
    },
    "id": "1e6a05c5-7805-46f2-9378-845f1f455e84",
    "tags": []
   },
   "outputs": [],
   "source": [
    "def to_pounds(value, unit):\n",
    "    if pd.isna(value) or pd.isna(unit):\n",
    "        return None\n",
    "    if unit == \"pounds\":\n",
    "        return value\n",
    "    elif unit == \"ounces\":\n",
    "        return value / 16\n",
    "    return None\n",
    "\n",
    "df_clean[\"Shipping Weight (lb)\"] = df_clean.apply(lambda row: to_pounds(row[\"Shipping Weight Value\"], row[\"Shipping Weight Unit\"]), axis=1)"
   ]
  },
  {
   "cell_type": "code",
   "execution_count": 21,
   "id": "31cf217f-088f-47cd-b960-475c721b751f",
   "metadata": {
    "colab": {
     "base_uri": "https://localhost:8080/"
    },
    "executionInfo": {
     "elapsed": 10,
     "status": "ok",
     "timestamp": 1755276654246,
     "user": {
      "displayName": "Mahima Masetty",
      "userId": "16202030355877904065"
     },
     "user_tz": 300
    },
    "id": "31cf217f-088f-47cd-b960-475c721b751f",
    "outputId": "38e87315-396c-4817-910d-94795d79e3ad",
    "tags": []
   },
   "outputs": [
    {
     "data": {
      "text/plain": [
       "array(['pounds', 'ounces'], dtype=object)"
      ]
     },
     "execution_count": 21,
     "metadata": {},
     "output_type": "execute_result"
    }
   ],
   "source": [
    "df_clean['Shipping Weight Unit'].dropna().unique()[:50]"
   ]
  },
  {
   "cell_type": "code",
   "execution_count": 22,
   "id": "c3fd24ac-7890-4282-a983-536f9250a39e",
   "metadata": {
    "colab": {
     "base_uri": "https://localhost:8080/"
    },
    "executionInfo": {
     "elapsed": 14,
     "status": "ok",
     "timestamp": 1755276654259,
     "user": {
      "displayName": "Mahima Masetty",
      "userId": "16202030355877904065"
     },
     "user_tz": 300
    },
    "id": "c3fd24ac-7890-4282-a983-536f9250a39e",
    "outputId": "47531047-b856-4f25-8310-8c85cbe35fd7",
    "tags": []
   },
   "outputs": [
    {
     "name": "stdout",
     "output_type": "stream",
     "text": [
      "                                Uniq Id  \\\n",
      "0      4c69b61db1fc16e7013b43fc926e502d   \n",
      "1      66d49bbed043f5be260fa9f7fbff5957   \n",
      "2      2c55cae269aebf53838484b0d7dd931a   \n",
      "3      18018b6bc416dab347b1b7db79994afa   \n",
      "4      e04b990e95bf73bbe6a3fa09785d7cd0   \n",
      "...                                 ...   \n",
      "9997   1a22f23576bfdfe5ed6c887dc117aab6   \n",
      "9998   e11514dcf1f087887cd5ea0bd646d1fc   \n",
      "9999   c00301a38560da2abc89c1f86ce4b267   \n",
      "10000  c2928dbf9796ceba44863a2736afb405   \n",
      "10001  2bb94aefc3467ed83860e0e2712d5f10   \n",
      "\n",
      "                                            Product Name  \\\n",
      "0      DB Longboards CoreFlex Crossbow 41\" Bamboo Fib...   \n",
      "1      Electronic Snap Circuits Mini Kits Classpack, ...   \n",
      "2      3Doodler Create Flexy 3D Printing Filament Ref...   \n",
      "3      Guillow Airplane Design Studio with Travel Cas...   \n",
      "4                       Woodstock- Collage 500 pc Puzzle   \n",
      "...                                                  ...   \n",
      "9997   Remedia Publications REM536B Money Activity Bo...   \n",
      "9998   Trends International NFL La Chargers HG - Mobi...   \n",
      "9999   NewPath Learning 10 Piece Science Owls and Owl...   \n",
      "10000           Disney Princess Do It Yourself Braid Set   \n",
      "10001        Hasegawa Ladders Lucano Step Ladder, Orange   \n",
      "\n",
      "                                                Category Selling Price  \\\n",
      "0      Sports & Outdoors | Outdoor Recreation | Skate...       $237.68   \n",
      "1      Toys & Games | Learning & Education | Science ...        $99.95   \n",
      "2              Toys & Games | Arts & Crafts | Craft Kits        $34.99   \n",
      "3      Toys & Games | Hobbies | Models & Model Kits |...        $28.91   \n",
      "4                Toys & Games | Puzzles | Jigsaw Puzzles        $17.49   \n",
      "...                                                  ...           ...   \n",
      "9997   Toys & Games | Learning & Education | Counting...         $9.31   \n",
      "9998                        Toys & Games | Arts & Crafts         $6.99   \n",
      "9999   Office Products | Office & School Supplies | E...        $37.95   \n",
      "10000          Toys & Games | Arts & Crafts | Craft Kits         $3.58   \n",
      "10001  Home & Kitchen | Furniture | Kids' Furniture |...       $152.27   \n",
      "\n",
      "                                           About Product  \\\n",
      "0      Make sure this fits by entering your model num...   \n",
      "1      Make sure this fits by entering your model num...   \n",
      "2      Make sure this fits by entering your model num...   \n",
      "3      Make 8 different Planes at one time. | Experim...   \n",
      "4      Make sure this fits by entering your model num...   \n",
      "...                                                  ...   \n",
      "9997                                                 NaN   \n",
      "9998   Make sure this fits by entering your model num...   \n",
      "9999   Make sure this fits by entering your model num...   \n",
      "10000                                                NaN   \n",
      "10001  Make sure this fits by entering your model num...   \n",
      "\n",
      "                                   Product Specification  \\\n",
      "0      Shipping Weight: 10.7 pounds (View shipping ra...   \n",
      "1      Product Dimensions:         14.7 x 11.1 x 10.2...   \n",
      "2      ProductDimensions:10.3x3.4x0.8inches|ItemWeigh...   \n",
      "3      ProductDimensions:3.5x6.2x13inches|ItemWeight:...   \n",
      "4      ProductDimensions:1.9x8x10inches|ItemWeight:13...   \n",
      "...                                                  ...   \n",
      "9997   Product Dimensions:         11 x 8.5 x 0.4 inc...   \n",
      "9998   ProductDimensions:3x6.5x0.3inches|ItemWeight:0...   \n",
      "9999   Product Dimensions:         18 x 11.9 x 0.7 in...   \n",
      "10000  ProductDimensions:7x7x2inches|ItemWeight:6.1ou...   \n",
      "10001  ProductDimensions:22.8x6x64.2inches|ItemWeight...   \n",
      "\n",
      "                                       Technical Details Shipping Weight  \\\n",
      "0                                                    NaN     10.7 pounds   \n",
      "1      The snap circuits mini kits classpack provides...        4 pounds   \n",
      "2      show up to 2 reviews by default No longer are ...     12.8 ounces   \n",
      "3      Go to your orders and start the return Select ...     13.4 ounces   \n",
      "4      show up to 2 reviews by default 100% Officiall...     13.4 ounces   \n",
      "...                                                  ...             ...   \n",
      "9997   show up to 2 reviews by default Activities inc...      4.8 ounces   \n",
      "9998   The mobile wallet is made of silicone with str...     0.96 ounces   \n",
      "9999   show up to 2 reviews by default NewPath Learni...      2.8 pounds   \n",
      "10000  Disney Princess DIY Braid Set | 6.1 ounces (Vi...      6.1 ounces   \n",
      "10001  Go to your orders and start the return Select ...     20.5 pounds   \n",
      "\n",
      "                                                   Image  \\\n",
      "0      https://images-na.ssl-images-amazon.com/images...   \n",
      "1      https://images-na.ssl-images-amazon.com/images...   \n",
      "2      https://images-na.ssl-images-amazon.com/images...   \n",
      "3      https://images-na.ssl-images-amazon.com/images...   \n",
      "4      https://images-na.ssl-images-amazon.com/images...   \n",
      "...                                                  ...   \n",
      "9997   https://images-na.ssl-images-amazon.com/images...   \n",
      "9998   https://images-na.ssl-images-amazon.com/images...   \n",
      "9999   https://images-na.ssl-images-amazon.com/images...   \n",
      "10000  https://images-na.ssl-images-amazon.com/images...   \n",
      "10001  https://images-na.ssl-images-amazon.com/images...   \n",
      "\n",
      "                                             Product Url Is Amazon Seller  \\\n",
      "0      https://www.amazon.com/DB-Longboards-CoreFlex-...                Y   \n",
      "1      https://www.amazon.com/Electronic-Circuits-Cla...                Y   \n",
      "2      https://www.amazon.com/3Doodler-Plastic-Innova...                Y   \n",
      "3      https://www.amazon.com/Guillow-Airplane-Design...                Y   \n",
      "4      https://www.amazon.com/Woodstock-Collage-500-p...                Y   \n",
      "...                                                  ...              ...   \n",
      "9997   https://www.amazon.com/Remedia-Publications-RE...                Y   \n",
      "9998   https://www.amazon.com/Trends-International-NF...                Y   \n",
      "9999   https://www.amazon.com/NewPath-Learning-Scienc...                Y   \n",
      "10000  https://www.amazon.com/Disney-Princess-Yoursel...                Y   \n",
      "10001  https://www.amazon.com/Hasegawa-Ladders-Lucano...                Y   \n",
      "\n",
      "       Minimum Selling Price  Maximum Selling Price  Shipping Weight Value  \\\n",
      "0                     237.68                 237.68                  10.70   \n",
      "1                      99.95                  99.95                   4.00   \n",
      "2                      34.99                  34.99                  12.80   \n",
      "3                      28.91                  28.91                  13.40   \n",
      "4                      17.49                  17.49                  13.40   \n",
      "...                      ...                    ...                    ...   \n",
      "9997                    9.31                   9.31                   4.80   \n",
      "9998                    6.99                   6.99                   0.96   \n",
      "9999                   37.95                  37.95                   2.80   \n",
      "10000                   3.58                   3.58                   6.10   \n",
      "10001                 152.27                 152.27                  20.50   \n",
      "\n",
      "      Shipping Weight Unit  Shipping Weight (lb)  \n",
      "0                   pounds              10.70000  \n",
      "1                   pounds               4.00000  \n",
      "2                   ounces               0.80000  \n",
      "3                   ounces               0.83750  \n",
      "4                   ounces               0.83750  \n",
      "...                    ...                   ...  \n",
      "9997                ounces               0.30000  \n",
      "9998                ounces               0.06000  \n",
      "9999                pounds               2.80000  \n",
      "10000               ounces               0.38125  \n",
      "10001               pounds              20.50000  \n",
      "\n",
      "[10002 rows x 16 columns]\n"
     ]
    }
   ],
   "source": [
    "print(df_clean)"
   ]
  },
  {
   "cell_type": "markdown",
   "id": "46ab4eaf-1f64-4b21-8a55-7773ea78d44e",
   "metadata": {
    "id": "46ab4eaf-1f64-4b21-8a55-7773ea78d44e"
   },
   "source": [
    "#### **Note for Veera**:\n",
    "\n",
    "Shipping Weight Filtering in RAG:\n",
    "All shipping weights in the dataset are stored in pounds for consistency.\n",
    "If a user query mentions a different unit (e.g., “5 kg”, “200 ounces”), the RAG pipeline must:\n",
    "\n",
    "Detect the numeric value + unit in the query.\n",
    "\n",
    "Convert it to pounds using the correct conversion factor.\n",
    "\n",
    "Filter the ChromaDB search results using this converted value before passing to the LLM.\n",
    "This ensures correct comparisons and avoids mismatches between stored values and query units."
   ]
  },
  {
   "cell_type": "markdown",
   "id": "75585ca0-1894-401d-a226-0def25540be6",
   "metadata": {
    "id": "75585ca0-1894-401d-a226-0def25540be6"
   },
   "source": [
    "### Creating a top category column"
   ]
  },
  {
   "cell_type": "code",
   "execution_count": 23,
   "id": "44de06da-c0fc-4408-ba9d-4b211a8c4e93",
   "metadata": {
    "executionInfo": {
     "elapsed": 63,
     "status": "ok",
     "timestamp": 1755276654322,
     "user": {
      "displayName": "Mahima Masetty",
      "userId": "16202030355877904065"
     },
     "user_tz": 300
    },
    "id": "44de06da-c0fc-4408-ba9d-4b211a8c4e93",
    "tags": []
   },
   "outputs": [],
   "source": [
    "df_clean['Top Category'] = df_clean['Category'].astype(str).str.split('|').str[0].str.strip()"
   ]
  },
  {
   "cell_type": "code",
   "execution_count": 24,
   "id": "7d282324-1fac-4f56-b023-a5937e7f2ec0",
   "metadata": {
    "colab": {
     "base_uri": "https://localhost:8080/"
    },
    "executionInfo": {
     "elapsed": 4,
     "status": "ok",
     "timestamp": 1755276654328,
     "user": {
      "displayName": "Mahima Masetty",
      "userId": "16202030355877904065"
     },
     "user_tz": 300
    },
    "id": "7d282324-1fac-4f56-b023-a5937e7f2ec0",
    "outputId": "bd83df7b-c6d0-42f7-cd66-270a1757c211",
    "tags": []
   },
   "outputs": [
    {
     "name": "stdout",
     "output_type": "stream",
     "text": [
      "                                Uniq Id  \\\n",
      "0      4c69b61db1fc16e7013b43fc926e502d   \n",
      "1      66d49bbed043f5be260fa9f7fbff5957   \n",
      "2      2c55cae269aebf53838484b0d7dd931a   \n",
      "3      18018b6bc416dab347b1b7db79994afa   \n",
      "4      e04b990e95bf73bbe6a3fa09785d7cd0   \n",
      "...                                 ...   \n",
      "9997   1a22f23576bfdfe5ed6c887dc117aab6   \n",
      "9998   e11514dcf1f087887cd5ea0bd646d1fc   \n",
      "9999   c00301a38560da2abc89c1f86ce4b267   \n",
      "10000  c2928dbf9796ceba44863a2736afb405   \n",
      "10001  2bb94aefc3467ed83860e0e2712d5f10   \n",
      "\n",
      "                                            Product Name  \\\n",
      "0      DB Longboards CoreFlex Crossbow 41\" Bamboo Fib...   \n",
      "1      Electronic Snap Circuits Mini Kits Classpack, ...   \n",
      "2      3Doodler Create Flexy 3D Printing Filament Ref...   \n",
      "3      Guillow Airplane Design Studio with Travel Cas...   \n",
      "4                       Woodstock- Collage 500 pc Puzzle   \n",
      "...                                                  ...   \n",
      "9997   Remedia Publications REM536B Money Activity Bo...   \n",
      "9998   Trends International NFL La Chargers HG - Mobi...   \n",
      "9999   NewPath Learning 10 Piece Science Owls and Owl...   \n",
      "10000           Disney Princess Do It Yourself Braid Set   \n",
      "10001        Hasegawa Ladders Lucano Step Ladder, Orange   \n",
      "\n",
      "                                                Category Selling Price  \\\n",
      "0      Sports & Outdoors | Outdoor Recreation | Skate...       $237.68   \n",
      "1      Toys & Games | Learning & Education | Science ...        $99.95   \n",
      "2              Toys & Games | Arts & Crafts | Craft Kits        $34.99   \n",
      "3      Toys & Games | Hobbies | Models & Model Kits |...        $28.91   \n",
      "4                Toys & Games | Puzzles | Jigsaw Puzzles        $17.49   \n",
      "...                                                  ...           ...   \n",
      "9997   Toys & Games | Learning & Education | Counting...         $9.31   \n",
      "9998                        Toys & Games | Arts & Crafts         $6.99   \n",
      "9999   Office Products | Office & School Supplies | E...        $37.95   \n",
      "10000          Toys & Games | Arts & Crafts | Craft Kits         $3.58   \n",
      "10001  Home & Kitchen | Furniture | Kids' Furniture |...       $152.27   \n",
      "\n",
      "                                           About Product  \\\n",
      "0      Make sure this fits by entering your model num...   \n",
      "1      Make sure this fits by entering your model num...   \n",
      "2      Make sure this fits by entering your model num...   \n",
      "3      Make 8 different Planes at one time. | Experim...   \n",
      "4      Make sure this fits by entering your model num...   \n",
      "...                                                  ...   \n",
      "9997                                                 NaN   \n",
      "9998   Make sure this fits by entering your model num...   \n",
      "9999   Make sure this fits by entering your model num...   \n",
      "10000                                                NaN   \n",
      "10001  Make sure this fits by entering your model num...   \n",
      "\n",
      "                                   Product Specification  \\\n",
      "0      Shipping Weight: 10.7 pounds (View shipping ra...   \n",
      "1      Product Dimensions:         14.7 x 11.1 x 10.2...   \n",
      "2      ProductDimensions:10.3x3.4x0.8inches|ItemWeigh...   \n",
      "3      ProductDimensions:3.5x6.2x13inches|ItemWeight:...   \n",
      "4      ProductDimensions:1.9x8x10inches|ItemWeight:13...   \n",
      "...                                                  ...   \n",
      "9997   Product Dimensions:         11 x 8.5 x 0.4 inc...   \n",
      "9998   ProductDimensions:3x6.5x0.3inches|ItemWeight:0...   \n",
      "9999   Product Dimensions:         18 x 11.9 x 0.7 in...   \n",
      "10000  ProductDimensions:7x7x2inches|ItemWeight:6.1ou...   \n",
      "10001  ProductDimensions:22.8x6x64.2inches|ItemWeight...   \n",
      "\n",
      "                                       Technical Details Shipping Weight  \\\n",
      "0                                                    NaN     10.7 pounds   \n",
      "1      The snap circuits mini kits classpack provides...        4 pounds   \n",
      "2      show up to 2 reviews by default No longer are ...     12.8 ounces   \n",
      "3      Go to your orders and start the return Select ...     13.4 ounces   \n",
      "4      show up to 2 reviews by default 100% Officiall...     13.4 ounces   \n",
      "...                                                  ...             ...   \n",
      "9997   show up to 2 reviews by default Activities inc...      4.8 ounces   \n",
      "9998   The mobile wallet is made of silicone with str...     0.96 ounces   \n",
      "9999   show up to 2 reviews by default NewPath Learni...      2.8 pounds   \n",
      "10000  Disney Princess DIY Braid Set | 6.1 ounces (Vi...      6.1 ounces   \n",
      "10001  Go to your orders and start the return Select ...     20.5 pounds   \n",
      "\n",
      "                                                   Image  \\\n",
      "0      https://images-na.ssl-images-amazon.com/images...   \n",
      "1      https://images-na.ssl-images-amazon.com/images...   \n",
      "2      https://images-na.ssl-images-amazon.com/images...   \n",
      "3      https://images-na.ssl-images-amazon.com/images...   \n",
      "4      https://images-na.ssl-images-amazon.com/images...   \n",
      "...                                                  ...   \n",
      "9997   https://images-na.ssl-images-amazon.com/images...   \n",
      "9998   https://images-na.ssl-images-amazon.com/images...   \n",
      "9999   https://images-na.ssl-images-amazon.com/images...   \n",
      "10000  https://images-na.ssl-images-amazon.com/images...   \n",
      "10001  https://images-na.ssl-images-amazon.com/images...   \n",
      "\n",
      "                                             Product Url Is Amazon Seller  \\\n",
      "0      https://www.amazon.com/DB-Longboards-CoreFlex-...                Y   \n",
      "1      https://www.amazon.com/Electronic-Circuits-Cla...                Y   \n",
      "2      https://www.amazon.com/3Doodler-Plastic-Innova...                Y   \n",
      "3      https://www.amazon.com/Guillow-Airplane-Design...                Y   \n",
      "4      https://www.amazon.com/Woodstock-Collage-500-p...                Y   \n",
      "...                                                  ...              ...   \n",
      "9997   https://www.amazon.com/Remedia-Publications-RE...                Y   \n",
      "9998   https://www.amazon.com/Trends-International-NF...                Y   \n",
      "9999   https://www.amazon.com/NewPath-Learning-Scienc...                Y   \n",
      "10000  https://www.amazon.com/Disney-Princess-Yoursel...                Y   \n",
      "10001  https://www.amazon.com/Hasegawa-Ladders-Lucano...                Y   \n",
      "\n",
      "       Minimum Selling Price  Maximum Selling Price  Shipping Weight Value  \\\n",
      "0                     237.68                 237.68                  10.70   \n",
      "1                      99.95                  99.95                   4.00   \n",
      "2                      34.99                  34.99                  12.80   \n",
      "3                      28.91                  28.91                  13.40   \n",
      "4                      17.49                  17.49                  13.40   \n",
      "...                      ...                    ...                    ...   \n",
      "9997                    9.31                   9.31                   4.80   \n",
      "9998                    6.99                   6.99                   0.96   \n",
      "9999                   37.95                  37.95                   2.80   \n",
      "10000                   3.58                   3.58                   6.10   \n",
      "10001                 152.27                 152.27                  20.50   \n",
      "\n",
      "      Shipping Weight Unit  Shipping Weight (lb)       Top Category  \n",
      "0                   pounds              10.70000  Sports & Outdoors  \n",
      "1                   pounds               4.00000       Toys & Games  \n",
      "2                   ounces               0.80000       Toys & Games  \n",
      "3                   ounces               0.83750       Toys & Games  \n",
      "4                   ounces               0.83750       Toys & Games  \n",
      "...                    ...                   ...                ...  \n",
      "9997                ounces               0.30000       Toys & Games  \n",
      "9998                ounces               0.06000       Toys & Games  \n",
      "9999                pounds               2.80000    Office Products  \n",
      "10000               ounces               0.38125       Toys & Games  \n",
      "10001               pounds              20.50000     Home & Kitchen  \n",
      "\n",
      "[10002 rows x 17 columns]\n"
     ]
    }
   ],
   "source": [
    "print(df_clean)"
   ]
  },
  {
   "cell_type": "markdown",
   "id": "ef6dae97-e5bb-40ac-8460-f226b25cc8a8",
   "metadata": {
    "id": "ef6dae97-e5bb-40ac-8460-f226b25cc8a8"
   },
   "source": [
    "### Creating a column that flags if a product image exists or not"
   ]
  },
  {
   "cell_type": "code",
   "execution_count": 25,
   "id": "050e4c91-8973-4edf-8cc8-3b1e53a479fb",
   "metadata": {
    "executionInfo": {
     "elapsed": 75292,
     "status": "ok",
     "timestamp": 1755276729629,
     "user": {
      "displayName": "Mahima Masetty",
      "userId": "16202030355877904065"
     },
     "user_tz": 300
    },
    "id": "050e4c91-8973-4edf-8cc8-3b1e53a479fb",
    "tags": []
   },
   "outputs": [],
   "source": [
    "def image_exists(url):\n",
    "    try:\n",
    "        r = requests.head(url, timeout=5)\n",
    "        return r.status_code == 200\n",
    "    except:\n",
    "        return False\n",
    "\n",
    "# Parallel checking with 20 threads\n",
    "def check_images_parallel(urls, max_workers=20):\n",
    "    with ThreadPoolExecutor(max_workers=max_workers) as executor:\n",
    "        results = list(executor.map(image_exists, urls))\n",
    "    return results\n",
    "\n",
    "# Applying in parallel and assigning to DataFrame\n",
    "df_clean['Image Exists'] = [\n",
    "    'Y' if exists else 'N'\n",
    "    for exists in check_images_parallel(df_clean['Image'])\n",
    "]"
   ]
  },
  {
   "cell_type": "code",
   "execution_count": 26,
   "id": "fc009565-726b-4d5d-9cc7-0f537f8e4f7a",
   "metadata": {
    "colab": {
     "base_uri": "https://localhost:8080/",
     "height": 178
    },
    "executionInfo": {
     "elapsed": 7,
     "status": "ok",
     "timestamp": 1755276729630,
     "user": {
      "displayName": "Mahima Masetty",
      "userId": "16202030355877904065"
     },
     "user_tz": 300
    },
    "id": "fc009565-726b-4d5d-9cc7-0f537f8e4f7a",
    "outputId": "0e1b6b32-0c8c-4394-ec92-d067c75ea8eb",
    "tags": []
   },
   "outputs": [
    {
     "data": {
      "text/plain": [
       "Image Exists\n",
       "Y    9970\n",
       "N      32\n",
       "Name: count, dtype: int64"
      ]
     },
     "execution_count": 26,
     "metadata": {},
     "output_type": "execute_result"
    }
   ],
   "source": [
    "df_clean['Image Exists'].value_counts()"
   ]
  },
  {
   "cell_type": "markdown",
   "id": "e22cd416-1db8-40e5-9029-04c3dce6022e",
   "metadata": {
    "id": "e22cd416-1db8-40e5-9029-04c3dce6022e"
   },
   "source": [
    "### Cleaning About Products, Product Description and Technical Details"
   ]
  },
  {
   "cell_type": "code",
   "execution_count": 27,
   "id": "2754d237-55fa-41c4-8588-4494ba70a5aa",
   "metadata": {
    "colab": {
     "base_uri": "https://localhost:8080/"
    },
    "executionInfo": {
     "elapsed": 7,
     "status": "ok",
     "timestamp": 1755276729636,
     "user": {
      "displayName": "Mahima Masetty",
      "userId": "16202030355877904065"
     },
     "user_tz": 300
    },
    "id": "2754d237-55fa-41c4-8588-4494ba70a5aa",
    "outputId": "555c12cd-8554-4c69-bf19-37c77616fd9a",
    "tags": []
   },
   "outputs": [
    {
     "data": {
      "text/plain": [
       "array([\"Make sure this fits by entering your model number. | RESPONSIVE FLEX: The Crossbow features a bamboo core encased in triaxial fiberglass and HD plastic for a responsive flex pattern that’s second to none. Pumping & carving have never been so satisfying! Flex 2 is recommended for people 120 to 170 pounds. | COREFLEX TECH: CoreFlex construction is water resistant, impact resistant, scratch resistant and has a flex like you won’t believe. These boards combine fiberglass, epoxy, HD plastic and bamboo to create a perfect blend of performance and strength. | INSPIRED BY THE NORTHWEST: Our founding ideal is chasing adventure & riding the best boards possible, inspired by the hills, waves, beaches & mountains all around our headquarters in the Northwest | BEST IN THE WORLD: DB was founded out of sheer love of longboarding with a mission to create the best custom longboards in the world, to do it sustainably, & to treat customers & employees like family | BEYOND COMPARE: Try our skateboards & accessories if you've tried similar products by Sector 9, Landyachtz, Arbor, Loaded, Globe, Orangatang, Hawgs, Powell-Peralta, Blood Orange, Caliber or Gullwing\",\n",
       "       'Make sure this fits by entering your model number. | Snap circuits mini kits classpack provides basic electronic circuitry activities for students in grades 2-6 | Includes 5 separate mini building kits- an FM radio, a motion detector, music box, space battle sound effects, and a flying saucer | Each kit includes separate components and instructions to build | Each component represents one function in a circuit; components snap together to create working models of everyday electronic devices | Activity guide provides additional projects to teach students how circuitry works',\n",
       "       \"Make sure this fits by entering your model number. | ✅【Smooth 3D drawing experienced the best 3D drawing experience by only using 3Doodler Create Plastics with 3Doodler Create+ and create 3D Printing pen. | ✅【Safe to use】the 3Doodler Create Plastics, conforms to the health requirements of ASTM-D-4236 & require no additional labelling in accordance with the US Consumer Product safety Commission’s Regulations as mandated by Labeling of Hazardous Art Materials Act (LHAMA). | 👍【3Doodler very own Type of plastic】the FLEXY plastic takes creativity to new levels! You can make flexible fun 3D creations! | 🌍【Environmentally friendly】3doodler create Plastic is made of corn and are 100% compostable! | ✅【125 strands of drawing fun】this bundle includes 5 refill filament packs, that's a total of 1043 ft. Of 3D drawing and doodling fun! | 📱【The 3Doodler app】get an interactive experience! The app is packed with dedicated easy to follow stencil section and step by step interactive instructions, receive badges for completed projects and photograph & share YOUR creations directly on social media. The app is fully built on iOS & Android. | ✅【All your favorite colors】this pack includes: green, blue, pink, orange & yellow\",\n",
       "       \"Make 8 different Planes at one time. | Experiment with different designs and learn about flight. | All contained in Part trays inside an attractive box with carry handle! | Guillow's - your one source for flying toys since 1926. | Made in the USA.\",\n",
       "       'Make sure this fits by entering your model number. | Puzzle has 500 pieces | Completed puzzle measure 14 x 19 | 100% officially licensed merchandise | Great for fans & puzzlers alike',\n",
       "       'Make sure this fits by entering your model number. | 4 medium-sized dinosaurs for kids, with lifelike pose, accurate ratio, and exquisitely detailed paint | Includes: Parasaurolophus walkeri, Stegosaurus ungulatus, Pachyrhinosaurus, and euoplocephalus tutus toy dinos | Museum Quality: classic toy dinosaurs designed by an internationally renowned paleo-artist | Educational toy: dinosaur toys for kids spark curiosity about paleontology, science, and natural History | Dimensions: Dimensions: miniature figurines measure 6.25-8.5 (L) 1.5-2.25 (W) 2.25-3.5 (H) inches approximately toys 6.25-8.5 (L) 1.5-2.25 (W) 2.25-3.5 (H) inches approximately | No batteries required, just imagination! | Earth-friendly recyclable packaging | Age: suggested for ages 3+ | Collect them all! Discover the entire Terra by Battat family of animal toy figurines and dinosaur playsets!',\n",
       "       \"Make sure this fits by entering your model number. | Polyester | Deluxe Pokemon child's Pikachu costume features a fleece jumpsuit with attached tail and headpiece with attached ears and printed face | Officially licensed Pokemon costume, look for trademark on packaging and label to help assure you've received authentic safety-tested item | Important: Costumes are sized differently than apparel, use the Rubie's Child Size Chart, do not choose based on child's age or clothing size | Group costume fun: coordinate with additional Pokemon costumes and accessories available from Rubie's | Family-owned, family-focused, and based in the U.S.A. Since 1951, Rubie's has classic and licensed costumes and accessories in sizes and styles for your entire family\",\n",
       "       nan,\n",
       "       'Make sure this fits by entering your model number. | The visual effect of textured glass and stained glass | Creates privacy / Provides UV protection | No adhesives / Applies easily | Patterns repeat to cover any size window | Made in USA',\n",
       "       \"Make sure this fits by entering your model number. | The Pokémon TCG: Sun & Moon—Crimson Invasion Elite Trainer Box includes: | 8 Pokémon TCG: Sun & Moon Crimson Invasion booster packs, 65 card sleeves featuring Silvally, 45 Pokémon TCG Energy cards, 6 damage-counter dice | 2 acrylic condition markers and 1 acrylic GX marker, 1 competition-legal coin-flip die | A collector's box to hold everything, with 4 dividers to keep it organized, A player's guide to the Sun & Moon—Crimson Invasion expansion, A code card for the Pokemon Trading Card Game | Official Release Date: November 3rd, 2017\"],\n",
       "      dtype=object)"
      ]
     },
     "execution_count": 27,
     "metadata": {},
     "output_type": "execute_result"
    }
   ],
   "source": [
    "df_clean['About Product'].unique()[:10]"
   ]
  },
  {
   "cell_type": "code",
   "execution_count": 28,
   "id": "6c5e3c8e-c611-4187-aa78-cbcb2ca892d0",
   "metadata": {
    "colab": {
     "base_uri": "https://localhost:8080/"
    },
    "executionInfo": {
     "elapsed": 6,
     "status": "ok",
     "timestamp": 1755276729642,
     "user": {
      "displayName": "Mahima Masetty",
      "userId": "16202030355877904065"
     },
     "user_tz": 300
    },
    "id": "6c5e3c8e-c611-4187-aa78-cbcb2ca892d0",
    "outputId": "d14647c9-b502-4ee9-bab4-a491af2a8ce0",
    "tags": []
   },
   "outputs": [
    {
     "data": {
      "text/plain": [
       "array(['Shipping Weight: 10.7 pounds (View shipping rates and policies)|ASIN: B07KMVJJK7|    #474    in\\xa0Longboards Skateboard',\n",
       "       'Product Dimensions:         14.7 x 11.1 x 10.2 inches ; 4.06 pounds    |Shipping Weight: 4 pounds (View shipping rates and policies)|Domestic Shipping: Item can be shipped within U.S.|International Shipping: This item can be shipped to select countries outside of the U.S.  Learn More|ASIN: B008AK6DAS|Item model number: 55324|    #3032    in\\xa0Science Kits & Toys',\n",
       "       'ProductDimensions:10.3x3.4x0.8inches|ItemWeight:12.8ounces|ShippingWeight:12.8ounces(Viewshippingratesandpolicies)|ASIN:B07D36747F|Manufacturerrecommendedage:14yearsandup',\n",
       "       'ProductDimensions:3.5x6.2x13inches|ItemWeight:13.4ounces|ShippingWeight:13.4ounces(Viewshippingratesandpolicies)|DomesticShipping:ItemcanbeshippedwithinU.S.|InternationalShipping:ThisitemcanbeshippedtoselectcountriesoutsideoftheU.S.LearnMore|ASIN:B076Y2SNHM|Itemmodelnumber:142|Manufacturerrecommendedage:8yearsandup',\n",
       "       'ProductDimensions:1.9x8x10inches|ItemWeight:13.4ounces|ShippingWeight:13.4ounces(Viewshippingratesandpolicies)|ASIN:B07MX21WWX|Itemmodelnumber:62151|Manufacturerrecommendedage:14yearsandup',\n",
       "       'ProductDimensions:8.7x3.9x3.4inches|ItemWeight:15.8ounces|ShippingWeight:1.4pounds(Viewshippingratesandpolicies)|ASIN:B07PF1R8LS|Itemmodelnumber:AN4054Z|Manufacturerrecommendedage:36months-10years',\n",
       "       'ProductDimensions:16x8x1inches|ItemWeight:1pounds|ShippingWeight:9.8ounces(Viewshippingratesandpolicies)|ASIN:B07BZJM592|Itemmodelnumber:B07BZJM592|Manufacturerrecommendedage:12month-2years',\n",
       "       nan,\n",
       "       'ProductDimensions:72x36x0inches|ItemWeight:11.2ounces|ShippingWeight:12.2ounces(Viewshippingratesandpolicies)|Manufacturer:Artscape|ASIN:B000Q3PRYA|DomesticShipping:ItemcanbeshippedwithinU.S.|InternationalShipping:ThisitemcanbeshippedtoselectcountriesoutsideoftheU.S.LearnMore|ShippingAdvisory:Thisitemmustbeshippedseparatelyfromotheritemsinyourorder.Additionalshippingchargeswillnotapply.|Itemmodelnumber:01-0121',\n",
       "       'ProductDimensions:7.5x3.5x6.8inches|ItemWeight:1.5pounds|ShippingWeight:1.5pounds(Viewshippingratesandpolicies)|DomesticShipping:ItemcanbeshippedwithinU.S.|InternationalShipping:ThisitemcanbeshippedtoselectcountriesoutsideoftheU.S.LearnMore|ASIN:B074NCGNX2|Itemmodelnumber:820650802607-1|Manufacturerrecommendedage:6yearsandup'],\n",
       "      dtype=object)"
      ]
     },
     "execution_count": 28,
     "metadata": {},
     "output_type": "execute_result"
    }
   ],
   "source": [
    "df_clean['Product Specification'].unique()[:10]"
   ]
  },
  {
   "cell_type": "code",
   "execution_count": 29,
   "id": "ca2216ab-38f6-4c87-8838-c196d9b4cf9d",
   "metadata": {
    "colab": {
     "base_uri": "https://localhost:8080/"
    },
    "executionInfo": {
     "elapsed": 4,
     "status": "ok",
     "timestamp": 1755276729657,
     "user": {
      "displayName": "Mahima Masetty",
      "userId": "16202030355877904065"
     },
     "user_tz": 300
    },
    "id": "ca2216ab-38f6-4c87-8838-c196d9b4cf9d",
    "outputId": "b37b7196-5307-471a-d573-ba35b06c602e",
    "tags": []
   },
   "outputs": [
    {
     "data": {
      "text/plain": [
       "array([nan,\n",
       "       'The snap circuits mini kits classpack provides basic electric circuitry information for students in grades 2-6. This classpack includes 5 snap-together building kits. Components snap together to create working models of everyday electronic devices. Kits included are an FM radio, a motion detector, a music box, space battle sound effects, and a flying saucer. Each mini kit comes with individual components, and an activity guide which includes instructions and additional project ideas. Each primary-colored component represents one function in a circuit. Activity kits are used by teachers and students in classroom and homeschool settings for educational and research applications in science, math, and for a variety of additional disciplines. Science education products and manipulatives incorporate applied math and science principles into classroom or homeschool projects. Teachers in pre-K, elementary, and secondary classrooms use science education kits, manipualtives, and products alongside science, technology, engineering, and math (STEM) curriculum to demonstrate STEM concepts and real-world applications through hands-on activities. Science education projects include a broad range of activities, such as practical experiments in engineering, aeronautics, robotics, chemistry, physics, biology, and geology.',\n",
       "       'show up to 2 reviews by default No longer are you bound by the rigid constraints of hard plastic! Our FLEXY line you can now squeeze, stretch, and twist your creations providing a truly dynamic Doodling experience. Do you want to take your creativity to new levels? Explore the wide variety of FLEXY plastic refill colors for your 3Doodler Create 3D pen! Flexy Plastics are compatible with the 3Doodler V.1, 2.0, and create 3D printing pens. Available in single & mixed color pack containing 25 strands each, and single colors tubes containing 100 strands. | 12.8 ounces (View shipping rates and policies)',\n",
       "       'Go to your orders and start the return Select the ship method Ship it! | Go to your orders and start the return Select the ship method Ship it! | 13.4 ounces (View shipping rates and policies) | show up to 2 reviews by default Kit contains parts to let your imagination soar and build flying planes! comes with over 35 parts (balsa wood wings, tails & bodies, plastic propellers and landing gear, rubber motors, etc) to let you build your own unique flying toy designs. Simple to build, easy to fly and hours of fun!',\n",
       "       'show up to 2 reviews by default 100% Officially licensed merchandise; complete puzzle measures 14 x 19 in. | 13.4 ounces (View shipping rates and policies)',\n",
       "       \"Go to your orders and start the return Select the ship method Ship it! | Go to your orders and start the return Select the ship method Ship it! | show up to 2 reviews by default Look out! Here come 4 incredible dinosaur toys that look like the real thing! Sought after by both kids and collectors, These scientifically precise and very collectable dinosaur replicas also feature bright, beautiful colors and look amazing in any dinosaur playset. And, they're made with high quality material, so these dinos will never go extinct! The intimidating-looking, and instantly recognizable Stegosaurus was the largest of plate-backed prehistoric herbivores. Scientists have suggested that the Stegosaurus’ iconic plates were for defense against predators, but this is unlikely as the plates were quite thin. Others have said the Stegosaurus’ spiked tail may have been used as a weapon. Terra’s Stegosaurus toy accurately recreates the formidable size and terrifying presence of this iconic predator. In particular, the large, heavily built frame and rounded backs of the mighty Stegosaurus are faithfully depicted in the dinosaur replica. This highly collectable playset also includes a toy Parasaurolophus, Stegosaurus, Pachyrhinosaurus, and euoplocephalus tutus. Collect your own miniature versions of 4 powerful and iconic dinosaurs from Terra by Battat! | 1.4 pounds (View shipping rates and policies)\",\n",
       "       \"Go to your orders and start the return Select the ship method Ship it! | Go to your orders and start the return Select the ship method Ship it! | Size:Toddler Transform into the popular and cute mouse-like Pokemon while on the hunt. Officially licensed deluxe Pokemon child's Pikachu costume Featuring a fleece jumpsuit with attached tail and headpiece with attached ears and printed face. Costumes are sized differently than apparel, use the Rubies child's size chart, do not choose based on child's age or clothing size. Pair with other Rubie's Officially Licensed Pokemon costumes for group or family fun! Look for Pikachu, Ash, Misty, Brock, Dawn, clemont, Serena, cilan, may, Squirtle, Charizard, and many more! Rubie's brings fun and fantasy to dress-up with the broadest selection of costumes and accessories, offering everything from full mascot suits to masks and wigs, from deluxe licensed costumes to simple starter pieces, from costume shoes to character make-up, and so much more. Family-owned, family-focused, and based in new York since 1951, you can look to Rubie's for every costume occasion and season: Halloween, Christmas, Mardi Gras, Easter, and all in-between. | 9.8 ounces (View shipping rates and policies)\",\n",
       "       'show up to 2 reviews by default Product Description Artscape window films create the look of stained and etched glass. These thin, translucent films provide privacy while still allowing natural light to enter the room. Artscape films are easily applied to any smooth glass surface. They do not use adhesives and are easily removed if needed. They can be trimmed or combined to fit any size window. The images have a repeating pattern left to right and top to bottom and can be used either vertically or horizontally. These films provide UV protection and are the perfect decorative accent for windows that require continued privacy. Artscape patented products are all made in the USA. From the Manufacturer Artscape window films create the look of stained and etched glass. These thin, translucent films provide privacy while still allowing natural light to enter the room. Artscape films are easily applied to any smooth glass surface. They do not use adhesives and are easily removed if needed. They can be trimmed or combined to fit any size window. The images have a repeating pattern left to right and top to bottom and can be used either vertically or horizontally. These films provide UV protection and are the perfect decorative accent for windows that require continued privacy. Artscape patented products are all made in the USA. | 12.2 ounces (View shipping rates and policies)',\n",
       "       'show up to 2 reviews by default Crimson Choas Across Alola! The mystrious Ultra Beasts have arrived, invading the Alola region as crimson-tinged Pokemon-GX: Nihilego-GX, Buzzwole-GX, Kartana-GX, and the ravenous Guzzlord-GX! Can Silvally-GX and the other allies of Alola defend the islands-or will the Ultra Beasts take control? Find out when you battle for the proze with the Pokemon Trading Card: Sun & Moon Crimson Invasion expansion! | 1.5 pounds (View shipping rates and policies)',\n",
       "       \"Go to your orders and start the return Select the ship method Ship it! | Go to your orders and start the return Select the ship method Ship it! | Create a magical story time experience for your child with moonlit 3-story reels bundle! Add tales about pirates, Dragons and a T-Rex to your Moonlite collection and introduce your little boy to exciting, adventure-filled stories he'll love! With the award-winning Moonlite storybook projector for your smartphone (sold separately) and the story reels included in this set, Enjoy reading how to be a pirate, there was an old Dragon who swallowed a Knight and I'm a T.Rex! Clip the projector onto your smartphone or smart device (not included) and slide in a story reel. Use the free app to read along to beautiful projected illustrations and create a truly immersive reading experience with the in-app sound effects! As your child listens to these exciting stories, they'll develop their language skills, creativity and a love of reading and learning. Cozy up for story time with Moonlite and the history reels bundle! | 3.2 ounces (View shipping rates and policies)\"],\n",
       "      dtype=object)"
      ]
     },
     "execution_count": 29,
     "metadata": {},
     "output_type": "execute_result"
    }
   ],
   "source": [
    "df_clean['Technical Details'].unique()[:10]"
   ]
  },
  {
   "cell_type": "code",
   "execution_count": 30,
   "id": "ef3d3eb6-7879-441d-9275-ded2b3ab2128",
   "metadata": {
    "executionInfo": {
     "elapsed": 0,
     "status": "ok",
     "timestamp": 1755276729658,
     "user": {
      "displayName": "Mahima Masetty",
      "userId": "16202030355877904065"
     },
     "user_tz": 300
    },
    "id": "ef3d3eb6-7879-441d-9275-ded2b3ab2128",
    "tags": []
   },
   "outputs": [],
   "source": [
    "BOILERPLATE_PATTERNS = [\n",
    "    r\"make sure this fits by entering your model number\\.?\",\n",
    "    r\"view shipping rates and policies\",\n",
    "    r\"product description\",\n",
    "    r\"go to your orders and start the return select the ship method ship it!?\",\n",
    "    r\"show up to \\d+ reviews by default\",\n",
    "    r\"officially licensed.*?(?=•|$)\",\n",
    "    r\"domestic shipping.*?(?=•|$)\",\n",
    "    r\"international shipping.*?(?=•|$)\"\n",
    "]\n",
    "\n",
    "# Words for unit spacing\n",
    "UNITS = [\"pounds\", \"pound\", \"lbs\", \"lb\", \"ounces\", \"ounce\", \"oz\",\n",
    "         \"inches\", \"inch\", \"cm\", \"mm\", \"kg\", \"g\"]\n",
    "\n",
    "def fix_stuck_words(t):\n",
    "    # Add space after colon if missing\n",
    "    t = re.sub(r\":(?=\\S)\", \": \", t)\n",
    "\n",
    "    # Add space after period if missing\n",
    "    t = re.sub(r\"\\.(?=[A-Z0-9])\", \". \", t)\n",
    "\n",
    "    # Break camelCase / PascalCase / mixedCase words\n",
    "    t = re.sub(r\"([a-z])([A-Z])\", r\"\\1 \\2\", t)  # lower→Upper\n",
    "    t = re.sub(r\"([A-Z][a-z])([A-Z])\", r\"\\1 \\2\", t)  # UpperLower→Upper\n",
    "    t = re.sub(r\"(?<=[a-zA-Z])(?=\\d)\", \" \", t)  # letter→digit\n",
    "    t = re.sub(r\"(?<=\\d)(?=[a-zA-Z])\", \" \", t)  # digit→letter\n",
    "\n",
    "    # Break known long jammed phrases\n",
    "    jammed_phrases = {\n",
    "        \"Manufacturerrecommendedage\": \"Manufacturer recommended age\",\n",
    "        \"Itemcanbeshippedwithin\": \"Item can be shipped within\",\n",
    "        \"Thisitemcanbeshippedtoselectcountries\": \"This item can be shipped to select countries\",\n",
    "        \"Viewshippingratesandpolicies\": \"View shipping rates and policies\",\n",
    "        \"MadeinUSA\": \"Made in USA\",\n",
    "        \"Thisitemmustbeshippedseparatelyfromotheritemsinyourorder\" : \"This item must be shipped separately from other items in your order\",\n",
    "        \"Additionalshippingchargeswillnotapply\": \"Additional shipping charges will not apply\",\n",
    "        \"Itemmodelnumber\" : \"Item model number\",\n",
    "        \"yearsandup\" : \"years and up\"\n",
    "\n",
    "    }\n",
    "    for bad, good in jammed_phrases.items():\n",
    "        t = t.replace(bad, good)\n",
    "\n",
    "    # Ensure spacing before known keywords\n",
    "    keywords = [\n",
    "        \"ASIN\", \"Manufacturer\", \"Itemmodelnumber\", \"Item model number\",\n",
    "        \"Shipping Weight\", \"Item Weight\", \"Product Dimensions\",\n",
    "        \"Domestic Shipping\", \"International Shipping\", \"Manufacturer recommended age\",\n",
    "        \"Item can be shipped\", \"This item can be shipped\",\n",
    "        \"Learn More\", \"Made in USA\", \"View shipping rates and policies\"\n",
    "    ]\n",
    "    for kw in keywords:\n",
    "        t = re.sub(r\"(?<!\\s)(\" + re.escape(kw) + r\")\", r\" \\1\", t)\n",
    "\n",
    "    # Space between numbers and measurement units\n",
    "    unit_pattern = r\"(\\d+(?:\\.\\d+)?)(?=\\s?(\" + \"|\".join(UNITS) + r\"))\"\n",
    "    t = re.sub(unit_pattern, r\"\\1 \", t)\n",
    "\n",
    "    return t\n",
    "\n",
    "def clean_text_block(text):\n",
    "    if not isinstance(text, str) or not text.strip() or text.strip().lower() == \"information unavailable\":\n",
    "        return \"\"\n",
    "\n",
    "    t = text\n",
    "\n",
    "    # Remove boilerplate\n",
    "    for pat in BOILERPLATE_PATTERNS:\n",
    "        t = re.sub(pat, \"\", t, flags=re.I)\n",
    "\n",
    "    # Remove all emoji and non-standard symbols (keep only letters, numbers, spaces, basic punctuation)\n",
    "    t = re.sub(r\"[^a-zA-Z0-9\\s\\.,;:!?%&\\-/()'\\\"]+\", \"\", t)\n",
    "\n",
    "    # Fix stuck words and units\n",
    "    t = fix_stuck_words(t)\n",
    "\n",
    "    # Remove empty parentheses left behind\n",
    "    t = re.sub(r\"\\(\\s*\\)\", \"\", t)\n",
    "\n",
    "    # Replace | with newline for separation\n",
    "    t = t.replace(\"|\", \"\\n\")\n",
    "\n",
    "    # Normalize spaces\n",
    "    t = re.sub(r\"\\s+\", \" \", t)\n",
    "\n",
    "    # Split into bullet points (•, newline, semicolon)\n",
    "    parts = re.split(r\"(?:•|\\n|;)\", t)\n",
    "    parts = [p.strip(\" .,-\") for p in parts if p.strip()]\n",
    "\n",
    "    # Capitalize first letter of each bullet\n",
    "    cleaned_parts = [p[0].upper() + p[1:] if p else \"\" for p in parts]\n",
    "\n",
    "    return \"\\n\".join(f\"• {p}\" for p in cleaned_parts if p)"
   ]
  },
  {
   "cell_type": "code",
   "execution_count": 31,
   "id": "8505701a-2c72-471c-bcc3-88a43b98ee33",
   "metadata": {
    "executionInfo": {
     "elapsed": 12802,
     "status": "ok",
     "timestamp": 1755276742460,
     "user": {
      "displayName": "Mahima Masetty",
      "userId": "16202030355877904065"
     },
     "user_tz": 300
    },
    "id": "8505701a-2c72-471c-bcc3-88a43b98ee33",
    "tags": []
   },
   "outputs": [],
   "source": [
    "# Applying cleaning functions\n",
    "df_clean['About Product Clean'] = df_clean['About Product'].apply(clean_text_block)\n",
    "df_clean['Product Specification Clean'] = df_clean['Product Specification'].apply(clean_text_block)\n",
    "df_clean['Technical Details Clean'] = df_clean['Technical Details'].apply(clean_text_block)"
   ]
  },
  {
   "cell_type": "code",
   "execution_count": 32,
   "id": "2478d7eb-c217-4d60-9e95-de6a29ac4264",
   "metadata": {
    "colab": {
     "base_uri": "https://localhost:8080/"
    },
    "executionInfo": {
     "elapsed": 26,
     "status": "ok",
     "timestamp": 1755276742488,
     "user": {
      "displayName": "Mahima Masetty",
      "userId": "16202030355877904065"
     },
     "user_tz": 300
    },
    "id": "2478d7eb-c217-4d60-9e95-de6a29ac4264",
    "outputId": "fc47d93d-1c36-41ab-f110-0689e67635fb",
    "tags": []
   },
   "outputs": [
    {
     "data": {
      "text/plain": [
       "array([\"• RESPONSIVE FLEX: The Crossbow features a bamboo core encased in triaxial fiberglass and HD plastic for a responsive flex pattern thats second to none. Pumping & carving have never been so satisfying! Flex 2 is recommended for people 120 to 170 pounds. COREFLEX TECH: Core Flex construction is water resistant, impact resistant, scratch resistant and has a flex like you wont believe. These boards combine fiberglass, epoxy, HD plastic and bamboo to create a perfect blend of performance and strength. INSPIRED BY THE NORTHWEST: Our founding ideal is chasing adventure & riding the best boards possible, inspired by the hills, waves, beaches & mountains all around our headquarters in the Northwest BEST IN THE WORLD: DB was founded out of sheer love of longboarding with a mission to create the best custom longboards in the world, to do it sustainably, & to treat customers & employees like family BEYOND COMPARE: Try our skateboards & accessories if you've tried similar products by Sector 9, Landyachtz, Arbor, Loaded, Globe, Orangatang, Hawgs, Powell-Peralta, Blood Orange, Caliber or Gullwing\",\n",
       "       '• Snap circuits mini kits classpack provides basic electronic circuitry activities for students in grades 2-6 Includes 5 separate mini building kits- an FM radio, a motion detector, music box, space battle sound effects, and a flying saucer Each kit includes separate components and instructions to build Each component represents one function in a circuit\\n• Components snap together to create working models of everyday electronic devices Activity guide provides additional projects to teach students how circuitry works',\n",
       "       \"• Smooth 3 D drawing experienced the best 3 D drawing experience by only using 3 Doodler Create Plastics with 3 Doodler Create and create 3 D Printing pen. Safe to usethe 3 Doodler Create Plastics, conforms to the health requirements of ASTM-D-4236 & require no additional labelling in accordance with the US Consumer Product safety Commissions Regulations as mandated by Labeling of Hazardous Art Materials Act (LHAMA). 3 Doodler very own Type of plasticthe FLEXY plastic takes creativity to new levels! You can make flexible fun 3 D creations! Environmentally friendly 3 doodler create Plastic is made of corn and are 100% compostable! 125 strands of drawing funthis bundle includes 5 refill filament packs, that's a total of 1043 ft. Of 3 D drawing and doodling fun! The 3 Doodler appget an interactive experience! The app is packed with dedicated easy to follow stencil section and step by step interactive instructions, receive badges for completed projects and photograph & share YOUR creations directly on social media. The app is fully built on i OS & Android. All your favorite colorsthis pack includes: green, blue, pink, orange & yellow\",\n",
       "       \"• Make 8 different Planes at one time. Experiment with different designs and learn about flight. All contained in Part trays inside an attractive box with carry handle! Guillow's - your one source for flying toys since 1926. Made in the USA\",\n",
       "       '• Puzzle has 500 pieces Completed puzzle measure 14 x 19 100%',\n",
       "       '• 4 medium-sized dinosaurs for kids, with lifelike pose, accurate ratio, and exquisitely detailed paint Includes: Parasaurolophus walkeri, Stegosaurus ungulatus, Pachyrhinosaurus, and euoplocephalus tutus toy dinos Museum Quality: classic toy dinosaurs designed by an internationally renowned paleo-artist Educational toy: dinosaur toys for kids spark curiosity about paleontology, science, and natural History Dimensions: Dimensions: miniature figurines measure 6. 25-8. 5 (L) 1. 5-2. 25 (W) 2. 25-3. 5 (H) inches approximately toys 6. 25-8. 5 (L) 1. 5-2. 25 (W) 2. 25-3. 5 (H) inches approximately No batteries required, just imagination! Earth-friendly recyclable packaging Age: suggested for ages 3 Collect them all! Discover the entire Terra by Battat family of animal toy figurines and dinosaur playsets!',\n",
       "       \"• Polyester Deluxe Pokemon child's Pikachu costume features a fleece jumpsuit with attached tail and headpiece with attached ears and printed face\",\n",
       "       '',\n",
       "       '• The visual effect of textured glass and stained glass Creates privacy / Provides UV protection No adhesives / Applies easily Patterns repeat to cover any size window Made in USA',\n",
       "       \"• The Pokmon TCG: Sun & Moon Crimson Invasion Elite Trainer Box includes: 8 Pokmon TCG: Sun & Moon Crimson Invasion booster packs, 65 card sleeves featuring Silvally, 45 Pokmon TCG Energy cards, 6 damage-counter dice 2 acrylic condition markers and 1 acrylic GX marker, 1 competition-legal coin-flip die A collector's box to hold everything, with 4 dividers to keep it organized, A player's guide to the Sun & Moon Crimson Invasion expansion, A code card for the Pokemon Trading Card Game Official Release Date: November 3 rd, 2017\"],\n",
       "      dtype=object)"
      ]
     },
     "execution_count": 32,
     "metadata": {},
     "output_type": "execute_result"
    }
   ],
   "source": [
    "df_clean['About Product Clean'].unique()[:10]"
   ]
  },
  {
   "cell_type": "code",
   "execution_count": 33,
   "id": "f72765a2-e997-417b-ad93-a8d9200680fe",
   "metadata": {
    "colab": {
     "base_uri": "https://localhost:8080/"
    },
    "executionInfo": {
     "elapsed": 15,
     "status": "ok",
     "timestamp": 1755276742503,
     "user": {
      "displayName": "Mahima Masetty",
      "userId": "16202030355877904065"
     },
     "user_tz": 300
    },
    "id": "f72765a2-e997-417b-ad93-a8d9200680fe",
    "outputId": "4b6d18e6-12e4-4751-86a5-2c0ef343a1ca",
    "tags": []
   },
   "outputs": [
    {
     "data": {
      "text/plain": [
       "array(['• Shipping Weight: 10. 7 pounds ASIN: B 07 KMVJJK 7 474 in Longboards Skateboard',\n",
       "       '• Product Dimensions: 14. 7 x 11. 1 x 10. 2 inches\\n• 4. 06 pounds Shipping Weight: 4 pounds',\n",
       "       '• Product Dimensions: 10. 3 x 3. 4 x 0. 8 inches Item Weight: 12. 8 ounces Shipping Weight: 12. 8 ounces( View shipping rates and policies) ASIN: B 07 D 36747 F Manufacturer recommended age: 14 years and up',\n",
       "       '• Product Dimensions: 3. 5 x 6. 2 x 13 inches Item Weight: 13. 4 ounces Shipping Weight: 13. 4 ounces( View shipping rates and policies) Domestic Shipping: Item can be shipped within U. S. International Shipping: This item can be shipped to select countriesoutsideofthe U. S. Learn More ASIN: B 076 Y 2 SNHM Item model number: 142 Manufacturer recommended age: 8 years and up',\n",
       "       '• Product Dimensions: 1. 9 x 8 x 10 inches Item Weight: 13. 4 ounces Shipping Weight: 13. 4 ounces( View shipping rates and policies) ASIN: B 07 MX 21 WWX Item model number: 62151 Manufacturer recommended age: 14 years and up',\n",
       "       '• Product Dimensions: 8. 7 x 3. 9 x 3. 4 inches Item Weight: 15. 8 ounces Shipping Weight: 1. 4 pounds( View shipping rates and policies) ASIN: B 07 PF 1 R 8 LS Item model number: AN 4054 Z Manufacturer recommended age: 36 months-10 years',\n",
       "       '• Product Dimensions: 16 x 8 x 1 inches Item Weight: 1 pounds Shipping Weight: 9. 8 ounces( View shipping rates and policies) ASIN: B 07 BZJM 592 Item model number: B 07 BZJM 592 Manufacturer recommended age: 12 month-2 years',\n",
       "       '',\n",
       "       '• Product Dimensions: 72 x 36 x 0 inches Item Weight: 11. 2 ounces Shipping Weight: 12. 2 ounces( View shipping rates and policies) Manufacturer: Artscape ASIN: B 000 Q 3 PRYA Domestic Shipping: Item can be shipped within U. S. International Shipping: This item can be shipped to select countriesoutsideofthe U. S. Learn More Shipping Advisory: This item must be shipped separately from other items in your order. Additional shipping charges will not apply. Item model number: 01-0121',\n",
       "       '• Product Dimensions: 7. 5 x 3. 5 x 6. 8 inches Item Weight: 1. 5 pounds Shipping Weight: 1. 5 pounds( View shipping rates and policies) Domestic Shipping: Item can be shipped within U. S. International Shipping: This item can be shipped to select countriesoutsideofthe U. S. Learn More ASIN: B 074 NCGNX 2 Item model number: 820650802607-1 Manufacturer recommended age: 6 years and up'],\n",
       "      dtype=object)"
      ]
     },
     "execution_count": 33,
     "metadata": {},
     "output_type": "execute_result"
    }
   ],
   "source": [
    "df_clean['Product Specification Clean'].unique()[:10]"
   ]
  },
  {
   "cell_type": "code",
   "execution_count": 34,
   "id": "89e62012-bb63-4e1d-bb15-ca74988b50b2",
   "metadata": {
    "colab": {
     "base_uri": "https://localhost:8080/"
    },
    "executionInfo": {
     "elapsed": 21,
     "status": "ok",
     "timestamp": 1755276742524,
     "user": {
      "displayName": "Mahima Masetty",
      "userId": "16202030355877904065"
     },
     "user_tz": 300
    },
    "id": "89e62012-bb63-4e1d-bb15-ca74988b50b2",
    "outputId": "65b72957-f830-405e-9a87-edee204e5448",
    "tags": []
   },
   "outputs": [
    {
     "data": {
      "text/plain": [
       "array(['',\n",
       "       '• The snap circuits mini kits classpack provides basic electric circuitry information for students in grades 2-6. This classpack includes 5 snap-together building kits. Components snap together to create working models of everyday electronic devices. Kits included are an FM radio, a motion detector, a music box, space battle sound effects, and a flying saucer. Each mini kit comes with individual components, and an activity guide which includes instructions and additional project ideas. Each primary-colored component represents one function in a circuit. Activity kits are used by teachers and students in classroom and homeschool settings for educational and research applications in science, math, and for a variety of additional disciplines. Science education products and manipulatives incorporate applied math and science principles into classroom or homeschool projects. Teachers in pre-K, elementary, and secondary classrooms use science education kits, manipualtives, and products alongside science, technology, engineering, and math (STEM) curriculum to demonstrate STEM concepts and real-world applications through hands-on activities. Science education projects include a broad range of activities, such as practical experiments in engineering, aeronautics, robotics, chemistry, physics, biology, and geology',\n",
       "       '• No longer are you bound by the rigid constraints of hard plastic! Our FLEXY line you can now squeeze, stretch, and twist your creations providing a truly dynamic Doodling experience. Do you want to take your creativity to new levels? Explore the wide variety of FLEXY plastic refill colors for your 3 Doodler Create 3 D pen! Flexy Plastics are compatible with the 3 Doodler V. 1, 2. 0, and create 3 D printing pens. Available in single & mixed color pack containing 25 strands each, and single colors tubes containing 100 strands. 12. 8 ounces',\n",
       "       '• 13. 4 ounces Kit contains parts to let your imagination soar and build flying planes! comes with over 35 parts (balsa wood wings, tails & bodies, plastic propellers and landing gear, rubber motors, etc) to let you build your own unique flying toy designs. Simple to build, easy to fly and hours of fun!',\n",
       "       '• 100%',\n",
       "       \"• Look out! Here come 4 incredible dinosaur toys that look like the real thing! Sought after by both kids and collectors, These scientifically precise and very collectable dinosaur replicas also feature bright, beautiful colors and look amazing in any dinosaur playset. And, they're made with high quality material, so these dinos will never go extinct! The intimidating-looking, and instantly recognizable Stegosaurus was the largest of plate-backed prehistoric herbivores. Scientists have suggested that the Stegosaurus iconic plates were for defense against predators, but this is unlikely as the plates were quite thin. Others have said the Stegosaurus spiked tail may have been used as a weapon. Terras Stegosaurus toy accurately recreates the formidable size and terrifying presence of this iconic predator. In particular, the large, heavily built frame and rounded backs of the mighty Stegosaurus are faithfully depicted in the dinosaur replica. This highly collectable playset also includes a toy Parasaurolophus, Stegosaurus, Pachyrhinosaurus, and euoplocephalus tutus. Collect your own miniature versions of 4 powerful and iconic dinosaurs from Terra by Battat! 1. 4 pounds\",\n",
       "       '• Size: Toddler Transform into the popular and cute mouse-like Pokemon while on the hunt',\n",
       "       '• Artscape window films create the look of stained and etched glass. These thin, translucent films provide privacy while still allowing natural light to enter the room. Artscape films are easily applied to any smooth glass surface. They do not use adhesives and are easily removed if needed. They can be trimmed or combined to fit any size window. The images have a repeating pattern left to right and top to bottom and can be used either vertically or horizontally. These films provide UV protection and are the perfect decorative accent for windows that require continued privacy. Artscape patented products are all made in the USA. From the Manufacturer Artscape window films create the look of stained and etched glass. These thin, translucent films provide privacy while still allowing natural light to enter the room. Artscape films are easily applied to any smooth glass surface. They do not use adhesives and are easily removed if needed. They can be trimmed or combined to fit any size window. The images have a repeating pattern left to right and top to bottom and can be used either vertically or horizontally. These films provide UV protection and are the perfect decorative accent for windows that require continued privacy. Artscape patented products are all made in the USA. 12. 2 ounces',\n",
       "       '• Crimson Choas Across Alola! The mystrious Ultra Beasts have arrived, invading the Alola region as crimson-tinged Pokemon-GX: Nihilego-GX, Buzzwole-GX, Kartana-GX, and the ravenous Guzzlord-GX! Can Silvally-GX and the other allies of Alola defend the islands-or will the Ultra Beasts take control? Find out when you battle for the proze with the Pokemon Trading Card: Sun & Moon Crimson Invasion expansion! 1. 5 pounds',\n",
       "       \"• Create a magical story time experience for your child with moonlit 3-story reels bundle! Add tales about pirates, Dragons and a T-Rex to your Moonlite collection and introduce your little boy to exciting, adventure-filled stories he'll love! With the award-winning Moonlite storybook projector for your smartphone (sold separately) and the story reels included in this set, Enjoy reading how to be a pirate, there was an old Dragon who swallowed a Knight and I'm a T. Rex! Clip the projector onto your smartphone or smart device (not included) and slide in a story reel. Use the free app to read along to beautiful projected illustrations and create a truly immersive reading experience with the in-app sound effects! As your child listens to these exciting stories, they'll develop their language skills, creativity and a love of reading and learning. Cozy up for story time with Moonlite and the history reels bundle! 3. 2 ounces\"],\n",
       "      dtype=object)"
      ]
     },
     "execution_count": 34,
     "metadata": {},
     "output_type": "execute_result"
    }
   ],
   "source": [
    "df_clean['Technical Details Clean'].unique()[:10]"
   ]
  },
  {
   "cell_type": "code",
   "execution_count": 35,
   "id": "BSqqiByjl98q",
   "metadata": {
    "colab": {
     "base_uri": "https://localhost:8080/"
    },
    "executionInfo": {
     "elapsed": 11,
     "status": "ok",
     "timestamp": 1755276742547,
     "user": {
      "displayName": "Mahima Masetty",
      "userId": "16202030355877904065"
     },
     "user_tz": 300
    },
    "id": "BSqqiByjl98q",
    "outputId": "34d7f50d-68d4-409a-a616-d507fa5e8f7f",
    "tags": []
   },
   "outputs": [
    {
     "name": "stdout",
     "output_type": "stream",
     "text": [
      "<class 'pandas.core.frame.DataFrame'>\n",
      "RangeIndex: 10002 entries, 0 to 10001\n",
      "Data columns (total 21 columns):\n",
      " #   Column                       Non-Null Count  Dtype  \n",
      "---  ------                       --------------  -----  \n",
      " 0   Uniq Id                      10002 non-null  object \n",
      " 1   Product Name                 10002 non-null  object \n",
      " 2   Category                     9172 non-null   object \n",
      " 3   Selling Price                9895 non-null   object \n",
      " 4   About Product                9729 non-null   object \n",
      " 5   Product Specification        8370 non-null   object \n",
      " 6   Technical Details            9212 non-null   object \n",
      " 7   Shipping Weight              8864 non-null   object \n",
      " 8   Image                        10002 non-null  object \n",
      " 9   Product Url                  10002 non-null  object \n",
      " 10  Is Amazon Seller             10002 non-null  object \n",
      " 11  Minimum Selling Price        9837 non-null   float64\n",
      " 12  Maximum Selling Price        9837 non-null   float64\n",
      " 13  Shipping Weight Value        8863 non-null   float64\n",
      " 14  Shipping Weight Unit         8863 non-null   object \n",
      " 15  Shipping Weight (lb)         8863 non-null   float64\n",
      " 16  Top Category                 10002 non-null  object \n",
      " 17  Image Exists                 10002 non-null  object \n",
      " 18  About Product Clean          10002 non-null  object \n",
      " 19  Product Specification Clean  10002 non-null  object \n",
      " 20  Technical Details Clean      10002 non-null  object \n",
      "dtypes: float64(4), object(17)\n",
      "memory usage: 1.6+ MB\n"
     ]
    }
   ],
   "source": [
    "df_clean.info()"
   ]
  },
  {
   "cell_type": "markdown",
   "id": "66ce4044-535f-449e-b52a-ebc2732d7b74",
   "metadata": {
    "id": "66ce4044-535f-449e-b52a-ebc2732d7b74"
   },
   "source": [
    "#### **Note for Veera**\n",
    "\n",
    "Missing Field Handling:\n",
    "Some products may be missing certain information (e.g., image URL, product description, shipping weight).\n",
    "These rows remain in the dataset for completeness.\n",
    "When the RAG pipeline retrieves a product with missing data, the LLM should be explicitly instructed to:\n",
    "\n",
    "Check if the field exists in metadata.\n",
    "\n",
    "If missing, respond with \"Information unavailable\" (or similar phrasing).\n",
    "This avoids the model hallucinating details or leaving fields blank in the final answer.\n",
    "\n",
    "Example prompt: If a product attribute (like category, shipping weight,selling price, image, or description) is missing, respond with \"Information unavailable\" instead of guessing."
   ]
  },
  {
   "cell_type": "code",
   "execution_count": 36,
   "id": "NI3spd0Kl_fU",
   "metadata": {
    "executionInfo": {
     "elapsed": 45,
     "status": "ok",
     "timestamp": 1755276742592,
     "user": {
      "displayName": "Mahima Masetty",
      "userId": "16202030355877904065"
     },
     "user_tz": 300
    },
    "id": "NI3spd0Kl_fU",
    "tags": []
   },
   "outputs": [],
   "source": [
    "# Filling NaNs\n",
    "df_clean = df_clean.fillna(\"Information unavailable\")"
   ]
  },
  {
   "cell_type": "code",
   "execution_count": 37,
   "id": "QcsLx9gZl_0L",
   "metadata": {
    "colab": {
     "base_uri": "https://localhost:8080/"
    },
    "executionInfo": {
     "elapsed": 27,
     "status": "ok",
     "timestamp": 1755276742633,
     "user": {
      "displayName": "Mahima Masetty",
      "userId": "16202030355877904065"
     },
     "user_tz": 300
    },
    "id": "QcsLx9gZl_0L",
    "outputId": "4cc52225-abfd-4314-db83-c5bce83b61c3",
    "tags": []
   },
   "outputs": [
    {
     "name": "stdout",
     "output_type": "stream",
     "text": [
      "<class 'pandas.core.frame.DataFrame'>\n",
      "RangeIndex: 10002 entries, 0 to 10001\n",
      "Data columns (total 21 columns):\n",
      " #   Column                       Non-Null Count  Dtype \n",
      "---  ------                       --------------  ----- \n",
      " 0   Uniq Id                      10002 non-null  object\n",
      " 1   Product Name                 10002 non-null  object\n",
      " 2   Category                     10002 non-null  object\n",
      " 3   Selling Price                10002 non-null  object\n",
      " 4   About Product                10002 non-null  object\n",
      " 5   Product Specification        10002 non-null  object\n",
      " 6   Technical Details            10002 non-null  object\n",
      " 7   Shipping Weight              10002 non-null  object\n",
      " 8   Image                        10002 non-null  object\n",
      " 9   Product Url                  10002 non-null  object\n",
      " 10  Is Amazon Seller             10002 non-null  object\n",
      " 11  Minimum Selling Price        10002 non-null  object\n",
      " 12  Maximum Selling Price        10002 non-null  object\n",
      " 13  Shipping Weight Value        10002 non-null  object\n",
      " 14  Shipping Weight Unit         10002 non-null  object\n",
      " 15  Shipping Weight (lb)         10002 non-null  object\n",
      " 16  Top Category                 10002 non-null  object\n",
      " 17  Image Exists                 10002 non-null  object\n",
      " 18  About Product Clean          10002 non-null  object\n",
      " 19  Product Specification Clean  10002 non-null  object\n",
      " 20  Technical Details Clean      10002 non-null  object\n",
      "dtypes: object(21)\n",
      "memory usage: 1.6+ MB\n"
     ]
    }
   ],
   "source": [
    "df_clean.info()"
   ]
  },
  {
   "cell_type": "markdown",
   "id": "34aaf2fb-7238-4e4d-9e40-2145ea0e0b72",
   "metadata": {
    "id": "34aaf2fb-7238-4e4d-9e40-2145ea0e0b72"
   },
   "source": [
    "## Creating Final Text for Embeddings and Building the Metadata for Filtering"
   ]
  },
  {
   "cell_type": "code",
   "execution_count": 38,
   "id": "59f2844d-0f09-4817-bba6-1f566e61df6e",
   "metadata": {
    "executionInfo": {
     "elapsed": 348,
     "status": "ok",
     "timestamp": 1755276742980,
     "user": {
      "displayName": "Mahima Masetty",
      "userId": "16202030355877904065"
     },
     "user_tz": 300
    },
    "id": "59f2844d-0f09-4817-bba6-1f566e61df6e",
    "tags": []
   },
   "outputs": [],
   "source": [
    "# This is the unstructured information of a product that the LLM will read.\n",
    "# It combines all the relevant text in a way that's human-readable and search-friendly.\n",
    "\n",
    "def build_context_text(row):\n",
    "    parts = []\n",
    "\n",
    "    # Basic product identity\n",
    "    parts.append(f\"Title: {row['Product Name']}\")\n",
    "\n",
    "    # Category info\n",
    "    parts.append(f\"Category:{row['Category']}\")\n",
    "\n",
    "    # Pricing\n",
    "    if pd.notna(row['Minimum Selling Price']):\n",
    "        if row['Minimum Selling Price'] == row['Maximum Selling Price']:\n",
    "            parts.append(f\"Price: ${row['Minimum Selling Price']}\")\n",
    "        else:\n",
    "            parts.append(f\"Price: ${row['Minimum Selling Price']} - ${row['Maximum Selling Price']}\")  # Price range\n",
    "\n",
    "    # Shipping weight - original text\n",
    "    if pd.notna(row['Shipping Weight']):\n",
    "        parts.append(f\"Shipping Weight: {row['Shipping Weight']}\")\n",
    "\n",
    "    # Detailed descriptions\n",
    "    if row['About Product Clean']:\n",
    "        parts.append(\"About:\\n\" + row['About Product Clean'])\n",
    "    if row['Product Specification Clean']:\n",
    "        parts.append(\"Specifications:\\n\" + row['Product Specification Clean'])\n",
    "    if row['Technical Details Clean']:\n",
    "        parts.append(\"Technical Details:\\n\" + row['Technical Details Clean'])\n",
    "\n",
    "    return \"\\n\".join(parts)\n",
    "\n",
    "df_clean['context_text'] = df_clean.apply(build_context_text, axis=1)"
   ]
  },
  {
   "cell_type": "code",
   "execution_count": 39,
   "id": "96a4fe8b-77fb-405f-a7f8-0765da510c54",
   "metadata": {
    "colab": {
     "base_uri": "https://localhost:8080/"
    },
    "executionInfo": {
     "elapsed": 23,
     "status": "ok",
     "timestamp": 1755276743009,
     "user": {
      "displayName": "Mahima Masetty",
      "userId": "16202030355877904065"
     },
     "user_tz": 300
    },
    "id": "96a4fe8b-77fb-405f-a7f8-0765da510c54",
    "outputId": "562ea3ce-dea3-46d1-fbe3-b72831715a57",
    "tags": []
   },
   "outputs": [
    {
     "data": {
      "text/plain": [
       "array(['Title: DB Longboards CoreFlex Crossbow 41\" Bamboo Fiberglass Longboard Complete\\nCategory:Sports & Outdoors | Outdoor Recreation | Skates, Skateboards & Scooters | Skateboarding | Standard Skateboards & Longboards | Longboards\\nPrice: $237.68\\nShipping Weight: 10.7 pounds\\nAbout:\\n• RESPONSIVE FLEX: The Crossbow features a bamboo core encased in triaxial fiberglass and HD plastic for a responsive flex pattern thats second to none. Pumping & carving have never been so satisfying! Flex 2 is recommended for people 120 to 170 pounds. COREFLEX TECH: Core Flex construction is water resistant, impact resistant, scratch resistant and has a flex like you wont believe. These boards combine fiberglass, epoxy, HD plastic and bamboo to create a perfect blend of performance and strength. INSPIRED BY THE NORTHWEST: Our founding ideal is chasing adventure & riding the best boards possible, inspired by the hills, waves, beaches & mountains all around our headquarters in the Northwest BEST IN THE WORLD: DB was founded out of sheer love of longboarding with a mission to create the best custom longboards in the world, to do it sustainably, & to treat customers & employees like family BEYOND COMPARE: Try our skateboards & accessories if you\\'ve tried similar products by Sector 9, Landyachtz, Arbor, Loaded, Globe, Orangatang, Hawgs, Powell-Peralta, Blood Orange, Caliber or Gullwing\\nSpecifications:\\n• Shipping Weight: 10. 7 pounds ASIN: B 07 KMVJJK 7 474 in Longboards Skateboard',\n",
       "       'Title: Electronic Snap Circuits Mini Kits Classpack, FM Radio, Motion Detector, Music Box (Set of 5)\\nCategory:Toys & Games | Learning & Education | Science Kits & Toys\\nPrice: $99.95\\nShipping Weight: 4 pounds\\nAbout:\\n• Snap circuits mini kits classpack provides basic electronic circuitry activities for students in grades 2-6 Includes 5 separate mini building kits- an FM radio, a motion detector, music box, space battle sound effects, and a flying saucer Each kit includes separate components and instructions to build Each component represents one function in a circuit\\n• Components snap together to create working models of everyday electronic devices Activity guide provides additional projects to teach students how circuitry works\\nSpecifications:\\n• Product Dimensions: 14. 7 x 11. 1 x 10. 2 inches\\n• 4. 06 pounds Shipping Weight: 4 pounds\\nTechnical Details:\\n• The snap circuits mini kits classpack provides basic electric circuitry information for students in grades 2-6. This classpack includes 5 snap-together building kits. Components snap together to create working models of everyday electronic devices. Kits included are an FM radio, a motion detector, a music box, space battle sound effects, and a flying saucer. Each mini kit comes with individual components, and an activity guide which includes instructions and additional project ideas. Each primary-colored component represents one function in a circuit. Activity kits are used by teachers and students in classroom and homeschool settings for educational and research applications in science, math, and for a variety of additional disciplines. Science education products and manipulatives incorporate applied math and science principles into classroom or homeschool projects. Teachers in pre-K, elementary, and secondary classrooms use science education kits, manipualtives, and products alongside science, technology, engineering, and math (STEM) curriculum to demonstrate STEM concepts and real-world applications through hands-on activities. Science education projects include a broad range of activities, such as practical experiments in engineering, aeronautics, robotics, chemistry, physics, biology, and geology',\n",
       "       \"Title: 3Doodler Create Flexy 3D Printing Filament Refill Bundle (X5 Pack, Over 1000'. of Extruded Plastics! - Innovate\\nCategory:Toys & Games | Arts & Crafts | Craft Kits\\nPrice: $34.99\\nShipping Weight: 12.8 ounces\\nAbout:\\n• Smooth 3 D drawing experienced the best 3 D drawing experience by only using 3 Doodler Create Plastics with 3 Doodler Create and create 3 D Printing pen. Safe to usethe 3 Doodler Create Plastics, conforms to the health requirements of ASTM-D-4236 & require no additional labelling in accordance with the US Consumer Product safety Commissions Regulations as mandated by Labeling of Hazardous Art Materials Act (LHAMA). 3 Doodler very own Type of plasticthe FLEXY plastic takes creativity to new levels! You can make flexible fun 3 D creations! Environmentally friendly 3 doodler create Plastic is made of corn and are 100% compostable! 125 strands of drawing funthis bundle includes 5 refill filament packs, that's a total of 1043 ft. Of 3 D drawing and doodling fun! The 3 Doodler appget an interactive experience! The app is packed with dedicated easy to follow stencil section and step by step interactive instructions, receive badges for completed projects and photograph & share YOUR creations directly on social media. The app is fully built on i OS & Android. All your favorite colorsthis pack includes: green, blue, pink, orange & yellow\\nSpecifications:\\n• Product Dimensions: 10. 3 x 3. 4 x 0. 8 inches Item Weight: 12. 8 ounces Shipping Weight: 12. 8 ounces( View shipping rates and policies) ASIN: B 07 D 36747 F Manufacturer recommended age: 14 years and up\\nTechnical Details:\\n• No longer are you bound by the rigid constraints of hard plastic! Our FLEXY line you can now squeeze, stretch, and twist your creations providing a truly dynamic Doodling experience. Do you want to take your creativity to new levels? Explore the wide variety of FLEXY plastic refill colors for your 3 Doodler Create 3 D pen! Flexy Plastics are compatible with the 3 Doodler V. 1, 2. 0, and create 3 D printing pens. Available in single & mixed color pack containing 25 strands each, and single colors tubes containing 100 strands. 12. 8 ounces\",\n",
       "       ...,\n",
       "       'Title: NewPath Learning 10 Piece Science Owls and Owl Pellets Curriculum Mastery Flip Chart Set, Grade 5-9\\nCategory:Office Products | Office & School Supplies | Education & Crafts | Classroom Science Supplies\\nPrice: $37.95\\nShipping Weight: 2.8 pounds\\nAbout:\\n• \"Write-on/wipe-off\" activities Perfect for hands-on review of standards-based skills Each set contains 10 double-sided charts mounted on durable easel Perfect for learning center or independent use Includes activity guide featuring black-line copy-masters and exercises\\nSpecifications:\\n• Product Dimensions: 18 x 11. 9 x 0. 7 inches\\n• 2. 75 pounds Shipping Weight: 2. 8 pounds\\nTechnical Details:\\n• New Path Learning standards-based science owls and owl pellets curriculum mastery flip chart set. Each curriculum mastery flip chart is mounted on a sturdy easel. 10 double-sided, laminated 18-inches length by 12-inches width charts. Side 1 features a colorful, graphic overview of the topic. Side 2 serves as a \"write-on/wipe-off\" activity chart featuring questions, labeling exercises, vocabulary review and more. Activity guide featuring blackline copymasters and exercises. Set Includes the following 10 charts: owls-birds of prey\\n• The barn owl\\n• Owl food web\\n• Owl pellets\\n• Dissecting an owl pellet\\n• Rodent skeleton\\n• Vole skeleton\\n• Mole skeleton\\n• Shrew skeleton\\n• Bird skeleton. Grade 5 - 9. Academic standard: California, Florida, National, New York, Texas',\n",
       "       'Title: Disney Princess Do It Yourself Braid Set\\nCategory:Toys & Games | Arts & Crafts | Craft Kits\\nPrice: $3.58\\nShipping Weight: 6.1 ounces\\nSpecifications:\\n• Product Dimensions: 7 x 7 x 2 inches Item Weight: 6. 1 ounces Shipping Weight: 6. 1 ounces( View shipping rates and policies) ASIN: B 076 D 3 P 6 SW Item model number: 2888 PRST Manufacturer recommended age: 0 monthsandup\\nTechnical Details:\\n• Disney Princess DIY Braid Set 6. 1 ounces',\n",
       "       'Title: Hasegawa Ladders Lucano Step Ladder, Orange\\nCategory:Home & Kitchen | Furniture | Kids\\' Furniture | Step Stools\\nPrice: $152.27\\nShipping Weight: 20.5 pounds\\nAbout:\\n• 90% Aluminum, 10% Resin Design by chiaki Murata of World famous Studio metaphys Stands on it\\'s own when folded Steps with integrated grooves for a firm grip Sturdy, safe ladder, holding up till 225 lbs. weight Material: 90% Powder coated Aluminum, 10% Resin\\nSpecifications:\\n• Product Dimensions: 22. 8 x 6 x 64. 2 inches Item Weight: 14. 7 pounds Shipping Weight: 20. 5 pounds( View shipping rates and policies) Manufacturer: Hasegawa Kogyo Co.,Ltd. ASIN: B 00 GG 65 EYE Item model number: ML 2. 0-4 OR\\nTechnical Details:\\n• Color: Orange Never hide it away. The luxe Luciano step stool transforms an ordinary household item into a slim, graceful work of art. Open size: W 22. 75\" X (platform top) H 42\" X d 38. 25\" (Safety bar top) H 59\" 20. 5 pounds'],\n",
       "      dtype=object)"
      ]
     },
     "execution_count": 39,
     "metadata": {},
     "output_type": "execute_result"
    }
   ],
   "source": [
    "df_clean['context_text'].unique()"
   ]
  },
  {
   "cell_type": "code",
   "execution_count": 40,
   "id": "ce51d1f8-ffc7-446c-a22c-e9d7acfa2f84",
   "metadata": {
    "executionInfo": {
     "elapsed": 319,
     "status": "ok",
     "timestamp": 1755276743329,
     "user": {
      "displayName": "Mahima Masetty",
      "userId": "16202030355877904065"
     },
     "user_tz": 300
    },
    "id": "ce51d1f8-ffc7-446c-a22c-e9d7acfa2f84",
    "tags": []
   },
   "outputs": [],
   "source": [
    "# Metadata contains facts about a product that we can filter/sort on in RAG without using embeddings.\n",
    "\n",
    "def build_metadata(row):\n",
    "    return {\n",
    "        \"unique_id\": row['Uniq Id'],\n",
    "        \"product_name\": row['Product Name'],\n",
    "        \"top_category\": row['Top Category'],\n",
    "        \"category\": row['Category'],\n",
    "        \"selling_price_min\": row['Minimum Selling Price'],\n",
    "        \"selling_price_max\": row['Maximum Selling Price'],\n",
    "        \"shipping_weight_lb\": row['Shipping Weight (lb)'],  # numeric, for numeric filters\n",
    "        \"shipping_weight_value\": row['Shipping Weight Value'],  # original parsed value\n",
    "        \"shipping_weight_unit\": row['Shipping Weight Unit'],    # original parsed unit\n",
    "        \"is_amazon_seller\": bool(row['Is Amazon Seller']),\n",
    "        \"image_exists\": bool(row['Image Exists']),\n",
    "        \"image_url\": row[\"Image\"] if isinstance(row[\"Image\"], str) else None,\n",
    "        \"product_url\": row[\"Product Url\"] if \"Product Url\" in df.columns and isinstance(row[\"Product Url\"], str) else None\n",
    "    }\n",
    "\n",
    "df_clean['metadata'] = df_clean.apply(build_metadata, axis=1)"
   ]
  },
  {
   "cell_type": "markdown",
   "id": "16510e6e-b5bc-4d01-aa57-2ca5a66a0f11",
   "metadata": {
    "id": "16510e6e-b5bc-4d01-aa57-2ca5a66a0f11"
   },
   "source": [
    "## Embedding image and text and storing it in ChromaDB"
   ]
  },
  {
   "cell_type": "code",
   "execution_count": 42,
   "id": "4b67c326-f033-4dda-bdca-d08e0f4412f2",
   "metadata": {
    "colab": {
     "base_uri": "https://localhost:8080/"
    },
    "executionInfo": {
     "elapsed": 12588,
     "status": "ok",
     "timestamp": 1755276755928,
     "user": {
      "displayName": "Mahima Masetty",
      "userId": "16202030355877904065"
     },
     "user_tz": 300
    },
    "id": "4b67c326-f033-4dda-bdca-d08e0f4412f2",
    "outputId": "d2330ef8-92b0-44ed-d0c9-2977b77d657e",
    "tags": []
   },
   "outputs": [
    {
     "name": "stderr",
     "output_type": "stream",
     "text": [
      "100%|███████████████████████████████████████| 338M/338M [00:12<00:00, 28.8MiB/s]\n"
     ]
    }
   ],
   "source": [
    "# CLIP\n",
    "device = \"cuda\" if torch.cuda.is_available() else \"cpu\"\n",
    "model, preprocess = clip.load(\"ViT-B/32\", device=device)\n",
    "\n",
    "# Setup ChromaDB persistent storage\n",
    "db_path = \"./amazon_product_db\"\n",
    "os.makedirs(db_path, exist_ok=True)\n",
    "\n",
    "# ChromaDB Persistent Client\n",
    "client = chromadb.PersistentClient(path=db_path)\n",
    "collection = client.get_or_create_collection(name=\"amazon_products\")\n",
    "\n",
    "# Image cache folder\n",
    "image_cache_dir = \"./image_cache\"\n",
    "os.makedirs(image_cache_dir, exist_ok=True)"
   ]
  },
  {
   "cell_type": "code",
   "execution_count": 43,
   "id": "R8Vabu2lc0fh",
   "metadata": {
    "executionInfo": {
     "elapsed": 4,
     "status": "ok",
     "timestamp": 1755276755934,
     "user": {
      "displayName": "Mahima Masetty",
      "userId": "16202030355877904065"
     },
     "user_tz": 300
    },
    "id": "R8Vabu2lc0fh",
    "tags": []
   },
   "outputs": [],
   "source": [
    "# Function to download images\n",
    "def download_image(url, unique_id):\n",
    "    if not url or not isinstance(url, str) or not url.strip():\n",
    "        print(f\"[SKIP] Empty or invalid URL for {unique_id}\")\n",
    "        return None\n",
    "\n",
    "    img_path = os.path.join(image_cache_dir, f\"{unique_id}.jpg\")\n",
    "    if os.path.exists(img_path):\n",
    "        return img_path\n",
    "\n",
    "    try:\n",
    "        headers = {\"User-Agent\": \"Mozilla/5.0\"}  # helps with 403s\n",
    "        r = requests.get(url, timeout=10, headers=headers, stream=True)\n",
    "        if r.status_code != 200:\n",
    "            print(f\"[FAIL] HTTP {r.status_code} for {unique_id} URL: {url}\")\n",
    "            return None\n",
    "\n",
    "        try:\n",
    "            image = Image.open(BytesIO(r.content)).convert(\"RGB\")\n",
    "        except Exception as e:\n",
    "            print(f\"[FAIL] PIL cannot open image for {unique_id}: {e}\")\n",
    "            return None\n",
    "\n",
    "        image.save(img_path, format=\"JPEG\", quality=90)\n",
    "        return img_path\n",
    "\n",
    "    except requests.exceptions.RequestException as e:\n",
    "        print(f\"[FAIL] Request error for {unique_id}: {e}\")\n",
    "        return None"
   ]
  },
  {
   "cell_type": "code",
   "execution_count": 47,
   "id": "1489ee9e-d360-4213-96cd-b0a66225d044",
   "metadata": {
    "executionInfo": {
     "elapsed": 16,
     "status": "ok",
     "timestamp": 1755277927834,
     "user": {
      "displayName": "Mahima Masetty",
      "userId": "16202030355877904065"
     },
     "user_tz": 300
    },
    "id": "1489ee9e-d360-4213-96cd-b0a66225d044",
    "tags": []
   },
   "outputs": [],
   "source": [
    "# Splits text into chunks that fit within CLIP's max token limit.\n",
    "def chunk_text_for_clip(text, max_tokens=75):\n",
    "    if not isinstance(text, str) or not text.strip():\n",
    "        return []\n",
    "    words = text.split()\n",
    "    chunks, current_chunk = [], []\n",
    "    for word in words:\n",
    "        trial_chunk = current_chunk + [word]\n",
    "        token_count = clip.tokenize([\" \".join(trial_chunk)]).shape[1]\n",
    "        if token_count <= max_tokens:\n",
    "            current_chunk.append(word)\n",
    "        else:\n",
    "            chunks.append(\" \".join(current_chunk))\n",
    "            current_chunk = [word]\n",
    "    if current_chunk:\n",
    "        chunks.append(\" \".join(current_chunk))\n",
    "    return chunks"
   ]
  },
  {
   "cell_type": "code",
   "execution_count": 48,
   "id": "mJymcQI6XwEv",
   "metadata": {
    "executionInfo": {
     "elapsed": 1,
     "status": "ok",
     "timestamp": 1755278240889,
     "user": {
      "displayName": "Mahima Masetty",
      "userId": "16202030355877904065"
     },
     "user_tz": 300
    },
    "id": "mJymcQI6XwEv",
    "tags": []
   },
   "outputs": [],
   "source": [
    "# Batched Embedding Functions\n",
    "def batch_text_embeddings(text_list, batch_size=128):\n",
    "    embeddings = []\n",
    "    for i in tqdm(range(0, len(text_list), batch_size), desc=\"Encoding text\"):\n",
    "        batch = text_list[i:i+batch_size]\n",
    "        with torch.no_grad():\n",
    "            tokens = clip.tokenize(batch).to(device)\n",
    "            embs = model.encode_text(tokens)\n",
    "            embs /= embs.norm(dim=-1, keepdim=True)\n",
    "            embeddings.extend(embs.cpu().numpy())\n",
    "    return embeddings\n",
    "\n",
    "def batch_image_embeddings(image_paths, batch_size=32):\n",
    "    embeddings = []\n",
    "    for i in tqdm(range(0, len(image_paths), batch_size), desc=\"Encoding images\"):\n",
    "        batch = image_paths[i:i+batch_size]\n",
    "        processed = torch.stack([preprocess(Image.open(p)) for p in batch]).to(device)\n",
    "        with torch.no_grad():\n",
    "            embs = model.encode_image(processed)\n",
    "            embs /= embs.norm(dim=-1, keepdim=True)\n",
    "            embeddings.extend(embs.cpu().numpy())\n",
    "    return embeddings"
   ]
  },
  {
   "cell_type": "code",
   "execution_count": 49,
   "id": "3cdcf33a-8339-4511-9f0a-b151064cdbb7",
   "metadata": {
    "tags": []
   },
   "outputs": [
    {
     "name": "stderr",
     "output_type": "stream",
     "text": [
      "Preparing entries:  70%|███████   | 7018/10002 [12:50<2:35:52,  3.13s/it]"
     ]
    },
    {
     "name": "stdout",
     "output_type": "stream",
     "text": [
      "[FAIL] Request error for 4c467374392d42c5fc762de1ea8b8491: HTTPSConnectionPool(host='images-na.ssl-images-amazon.com', port=443): Read timed out. (read timeout=10)\n"
     ]
    },
    {
     "name": "stderr",
     "output_type": "stream",
     "text": [
      "Preparing entries: 100%|██████████| 10002/10002 [19:24<00:00,  8.59it/s] "
     ]
    },
    {
     "name": "stdout",
     "output_type": "stream",
     "text": [
      "Total text chunks: 2231792\n",
      "Total images: 9969\n",
      "Failed images: 1\n"
     ]
    },
    {
     "name": "stderr",
     "output_type": "stream",
     "text": [
      "\n"
     ]
    }
   ],
   "source": [
    "# Pre-processing phase\n",
    "text_entries, text_ids, text_metas = [], [], []\n",
    "image_entries, image_ids, image_docs, image_metas = [], [], [], []\n",
    "failed_images = []\n",
    "\n",
    "for row in tqdm(df_clean.to_dict(\"records\"), total=len(df_clean), desc=\"Preparing entries\"):\n",
    "    uid = row[\"Uniq Id\"]\n",
    "    context_text = row[\"context_text\"]\n",
    "    metadata = row[\"metadata\"]\n",
    "    image_exists = str(row[\"Image Exists\"]).strip().upper()\n",
    "    image_url = (row[\"Image\"] or \"\").strip()\n",
    "\n",
    "    # Text chunks\n",
    "    for idx, chunk in enumerate(chunk_text_for_clip(context_text)):\n",
    "        text_entries.append(chunk)\n",
    "        text_ids.append(f\"{uid}_text_{idx}\")\n",
    "        text_metas.append(metadata)\n",
    "\n",
    "    # Image download\n",
    "    if image_exists == \"Y\" and image_url:\n",
    "        img_path = download_image(image_url, uid)\n",
    "        if img_path:\n",
    "            image_entries.append(img_path)\n",
    "            image_ids.append(f\"{uid}_image\")\n",
    "            image_docs.append(\"\")\n",
    "            image_metas.append(metadata)\n",
    "        else:\n",
    "            failed_images.append({\"Uniq Id\": uid, \"url\": image_url})\n",
    "            df_clean.loc[df_clean[\"Uniq Id\"] == uid, \"Image\"] = \"Information unavailable\"\n",
    "\n",
    "print(f\"Total text chunks: {len(text_entries)}\")\n",
    "print(f\"Total images: {len(image_entries)}\")\n",
    "print(f\"Failed images: {len(failed_images)}\")"
   ]
  },
  {
   "cell_type": "code",
   "execution_count": 50,
   "id": "Z0vcKVGvX1ga",
   "metadata": {
    "colab": {
     "base_uri": "https://localhost:8080/"
    },
    "executionInfo": {
     "elapsed": 1503000,
     "status": "ok",
     "timestamp": 1755279743890,
     "user": {
      "displayName": "Mahima Masetty",
      "userId": "16202030355877904065"
     },
     "user_tz": 300
    },
    "id": "Z0vcKVGvX1ga",
    "outputId": "2d075cbf-8632-43bf-f2fc-d2bede806ec0",
    "tags": []
   },
   "outputs": [
    {
     "name": "stderr",
     "output_type": "stream",
     "text": [
      "Encoding text: 100%|██████████| 17436/17436 [24:09<00:00, 12.03it/s]\n",
      "Encoding images: 100%|██████████| 312/312 [01:07<00:00,  4.65it/s]\n"
     ]
    }
   ],
   "source": [
    "# Embedding Phase\n",
    "all_ids, all_docs, all_metas, all_embeds = [], [], [], []\n",
    "\n",
    "# Text embeddings\n",
    "text_embs = batch_text_embeddings(text_entries, batch_size=128)\n",
    "all_ids.extend(text_ids)\n",
    "all_docs.extend(text_entries)\n",
    "all_metas.extend(text_metas)\n",
    "all_embeds.extend(text_embs)\n",
    "\n",
    "# Image embeddings\n",
    "if image_entries:\n",
    "    image_embs = batch_image_embeddings(image_entries, batch_size=32)\n",
    "    all_ids.extend(image_ids)\n",
    "    all_docs.extend(image_docs)\n",
    "    all_metas.extend(image_metas)\n",
    "    all_embeds.extend(image_embs)"
   ]
  },
  {
   "cell_type": "code",
   "execution_count": 51,
   "id": "7fae5c25-658a-48b7-89f6-27ab8d189afb",
   "metadata": {
    "tags": []
   },
   "outputs": [
    {
     "name": "stdout",
     "output_type": "stream",
     "text": [
      "Data validated — ready for ChromaDB.\n"
     ]
    }
   ],
   "source": [
    "if not (len(all_ids) == len(all_docs) == len(all_metas) == len(all_embeds)):\n",
    "    raise ValueError(\"Length mismatch between IDs, docs, metas, and embeddings\")\n",
    "\n",
    "if not all(isinstance(e, np.ndarray) or isinstance(e, list) for e in all_embeds):\n",
    "    raise ValueError(\"Embeddings contain non-array values\")\n",
    "\n",
    "print(\"Data validated — ready for ChromaDB.\")"
   ]
  },
  {
   "cell_type": "code",
   "execution_count": 52,
   "id": "25fa4c70-4c9d-475c-b77e-59cbd72bc2e2",
   "metadata": {
    "colab": {
     "base_uri": "https://localhost:8080/",
     "height": 211
    },
    "executionInfo": {
     "elapsed": 46,
     "status": "error",
     "timestamp": 1755280355728,
     "user": {
      "displayName": "Mahima Masetty",
      "userId": "16202030355877904065"
     },
     "user_tz": 300
    },
    "id": "25fa4c70-4c9d-475c-b77e-59cbd72bc2e2",
    "outputId": "8001a725-7bb5-4532-bf8e-1afe34ba6e12",
    "tags": []
   },
   "outputs": [
    {
     "name": "stdout",
     "output_type": "stream",
     "text": [
      " Writing 2241761 entries to ChromaDB...\n"
     ]
    },
    {
     "name": "stderr",
     "output_type": "stream",
     "text": [
      "Saving to ChromaDB: 100%|██████████| 4484/4484 [1:53:53<00:00,  1.52s/it]"
     ]
    },
    {
     "name": "stdout",
     "output_type": "stream",
     "text": [
      "Finished writing to ChromaDB.\n"
     ]
    },
    {
     "name": "stderr",
     "output_type": "stream",
     "text": [
      "\n"
     ]
    }
   ],
   "source": [
    "# Write to ChromaDB\n",
    "batch_size = 500\n",
    "print(f\" Writing {len(all_ids)} entries to ChromaDB...\")\n",
    "for i in tqdm(range(0, len(all_ids), batch_size), desc=\"Saving to ChromaDB\"):\n",
    "    collection.add(\n",
    "        ids=all_ids[i:i+batch_size],\n",
    "        embeddings=all_embeds[i:i+batch_size],\n",
    "        documents=all_docs[i:i+batch_size],\n",
    "        metadatas=all_metas[i:i+batch_size]\n",
    "    )\n",
    "\n",
    "print(\"Finished writing to ChromaDB.\")"
   ]
  },
  {
   "cell_type": "code",
   "execution_count": null,
   "id": "de85666d-9486-4108-8c42-0596d652bdd5",
   "metadata": {},
   "outputs": [],
   "source": [
    "# Zip the DB before uploading\n",
    "shutil.make_archive(\"amazon_product_db\", 'zip', db_path)"
   ]
  },
  {
   "cell_type": "code",
   "execution_count": null,
   "id": "f95793da-6cb6-44a9-b936-71893b864037",
   "metadata": {},
   "outputs": [],
   "source": [
    "bucket_name = \"mahimamasetty\"  # just the bucket, no \"gs://\", no folder\n",
    "gcs_path = f\"gs://{bucket_name}/Data/amazon_product_db.zip\"\n",
    "\n",
    "!gsutil cp amazon_product_db.zip {gcs_path}"
   ]
  },
  {
   "cell_type": "markdown",
   "id": "d71b9274-f277-4b5a-a77c-6c552c2564d7",
   "metadata": {
    "id": "d71b9274-f277-4b5a-a77c-6c552c2564d7"
   },
   "source": [
    "#### **Note for Veera**\n",
    "\n",
    "To do (taken from project document uploaded on canvas):\n",
    "\n",
    "Build a robust retrieval system that provides accurate contextual information\n",
    "to a language model, enhancing its ability to generate relevant responses.\n",
    "• Accuracy of Retrieval: Assess the correctness of the retrieved items.\n",
    "• Recall at Different Cutoffs: Calculate Recall@1, Recall@5, and Recall@10 to\n",
    "evaluate the proportion of relevant items retrieved at each cutoff level.\n",
    "\n",
    "Integrating with a Large Language Model (LLM)\n",
    "o Objective: Enable conversational interactions using an LLM.\n",
    "o Tasks:\n",
    "§ Integrate the retrieval mechanism with an open-source LLM (e.g., Meta-\n",
    "Llama-3.1 or Mixtral) for dynamic question-and-answer capabilities.\n",
    "§ Leverage your prior learning on crafting template prompts with zero-shot,\n",
    "few-shot, and multiple-shot techniques to generate relevant conversational\n",
    "interactions.\n",
    "§ Ensure that the LLM can utilize the retrieved embeddings to generate\n",
    "accurate and context-aware responses.\n",
    "o Outcome: A conversational interface capable of understanding and responding to\n",
    "both text and image-based queries effectively."
   ]
  }
 ],
 "metadata": {
  "accelerator": "GPU",
  "colab": {
   "gpuType": "T4",
   "provenance": []
  },
  "environment": {
   "kernel": "conda-base-py",
   "name": "workbench-notebooks.m129",
   "type": "gcloud",
   "uri": "us-docker.pkg.dev/deeplearning-platform-release/gcr.io/workbench-notebooks:m129"
  },
  "kernelspec": {
   "display_name": "Python 3 (ipykernel) (Local)",
   "language": "python",
   "name": "conda-base-py"
  },
  "language_info": {
   "codemirror_mode": {
    "name": "ipython",
    "version": 3
   },
   "file_extension": ".py",
   "mimetype": "text/x-python",
   "name": "python",
   "nbconvert_exporter": "python",
   "pygments_lexer": "ipython3",
   "version": "3.10.16"
  }
 },
 "nbformat": 4,
 "nbformat_minor": 5
}
